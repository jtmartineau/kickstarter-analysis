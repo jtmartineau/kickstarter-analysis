{
 "cells": [
  {
   "cell_type": "code",
   "execution_count": 1,
   "id": "8f953b90-f25f-4f11-8c77-5053c2cfa8d8",
   "metadata": {
    "tags": []
   },
   "outputs": [],
   "source": [
    "import requests\n",
    "import random\n",
    "from bs4 import BeautifulSoup\n",
    "from os import listdir\n",
    "from os.path import isfile, join\n",
    "import pandas as pd\n",
    "import ast\n",
    "from sklearn.linear_model import LinearRegression\n",
    "from sklearn.linear_model import LogisticRegression\n",
    "from sklearn.linear_model import Lasso\n",
    "from sklearn.linear_model import ElasticNet\n",
    "from sklearn.linear_model import Ridge\n",
    "from sklearn.preprocessing import StandardScaler\n",
    "from sklearn.model_selection import train_test_split\n",
    "from sklearn.decomposition import PCA\n",
    "import plotly.express as px\n",
    "import numpy as np\n",
    "import scipy"
   ]
  },
  {
   "cell_type": "code",
   "execution_count": 2,
   "id": "f9173f8a-e1ee-433a-a89c-7322ae37951d",
   "metadata": {
    "tags": []
   },
   "outputs": [],
   "source": [
    "from gensim.models import Word2Vec\n",
    "from gensim.utils import simple_preprocess"
   ]
  },
  {
   "cell_type": "code",
   "execution_count": 3,
   "id": "e9f59997-c331-4137-8888-fa87fe3b373a",
   "metadata": {
    "tags": []
   },
   "outputs": [],
   "source": [
    "pd.set_option('display.max_columns', 1000)"
   ]
  },
  {
   "cell_type": "code",
   "execution_count": 4,
   "id": "d13fa6d7-ae0c-4ca9-b9a8-c0534c1ba41f",
   "metadata": {},
   "outputs": [],
   "source": [
    "month_folders = ['April2023', 'August2023', 'February2023', 'January2022',\n",
    "                 'January2023', 'July2023', 'June2023', 'March2023', 'May2023', 'September2023'];"
   ]
  },
  {
   "cell_type": "code",
   "execution_count": 5,
   "id": "1d455b66-1f0e-41c1-a188-e07cbc239b13",
   "metadata": {
    "tags": []
   },
   "outputs": [],
   "source": [
    "raw_df = pd.DataFrame();\n",
    "\n",
    "current_paths = [];\n",
    "for month in month_folders:\n",
    "    current_paths = current_paths + [join(month, x) for x in listdir(month) if '.csv' in x]\n",
    "\n",
    "for current_path in current_paths:\n",
    "    df_temp = pd.read_csv(current_path);\n",
    "    raw_df = pd.concat([raw_df, df_temp])\n",
    "\n",
    "raw_df = raw_df.reset_index(drop = True)"
   ]
  },
  {
   "cell_type": "code",
   "execution_count": 6,
   "id": "e053ab0b-8597-4c28-9fc8-e0898bfb34c6",
   "metadata": {},
   "outputs": [],
   "source": [
    "raw_df.head();"
   ]
  },
  {
   "cell_type": "code",
   "execution_count": 7,
   "id": "7eebebeb-8b47-42fd-92e6-f135c26a56f9",
   "metadata": {
    "tags": []
   },
   "outputs": [],
   "source": [
    "df_selected = raw_df[['backers_count', 'blurb',\n",
    "                      'category', 'country', 'creator',\n",
    "                      'currency', 'currency_trailing_code',\n",
    "                      'disable_communication', 'fx_rate',\n",
    "                      'goal', 'is_starrable', 'name',\n",
    "                      'pledged', 'slug', 'spotlight',\n",
    "                      'staff_pick', 'state', 'usd_exchange_rate',\n",
    "                      'usd_pledged']]"
   ]
  },
  {
   "cell_type": "code",
   "execution_count": null,
   "id": "5061ea15-0746-4da1-b049-b8cfa901a865",
   "metadata": {
    "tags": []
   },
   "outputs": [],
   "source": [
    "df_selected.loc[:,'category'] = (df_selected.copy()).apply(lambda x : ast.literal_eval(x['category'])['name'], axis = 1)"
   ]
  },
  {
   "cell_type": "code",
   "execution_count": 9,
   "id": "a60f40e2-ff2d-4f81-831e-2c4f0f4d986e",
   "metadata": {
    "tags": []
   },
   "outputs": [],
   "source": [
    "corpus = [];\n",
    "corpus_index = []\n",
    "\n",
    "for index, row in df_selected.iterrows():\n",
    "    try:\n",
    "        sentence = [row['name'] + '. ' + row['slug'] + '. ' + row['blurb']];\n",
    "        corpus = corpus + sentence;\n",
    "        corpus_index.append(index);\n",
    "    \n",
    "    except:\n",
    "        continue;"
   ]
  },
  {
   "cell_type": "code",
   "execution_count": 10,
   "id": "c5e2befa-eed6-46bc-9dd6-edf0dfbc65df",
   "metadata": {},
   "outputs": [],
   "source": [
    "df_corpus = pd.DataFrame({'sentences' : corpus}, index = corpus_index)"
   ]
  },
  {
   "cell_type": "code",
   "execution_count": 11,
   "id": "c1adeace-b4b3-4e54-b65b-06eb27d6e638",
   "metadata": {
    "tags": []
   },
   "outputs": [],
   "source": [
    "corpus_preprocessed = [simple_preprocess(i) for i in corpus]"
   ]
  },
  {
   "cell_type": "code",
   "execution_count": 12,
   "id": "3a203539-549e-4251-bb9a-d065c490f146",
   "metadata": {
    "tags": []
   },
   "outputs": [],
   "source": [
    "model = Word2Vec(corpus_preprocessed, min_count = 1, vector_size = 7)"
   ]
  },
  {
   "cell_type": "code",
   "execution_count": 13,
   "id": "f3159991-4f4c-4b19-ab3e-333df67314e1",
   "metadata": {
    "tags": []
   },
   "outputs": [],
   "source": [
    "vocabulary = []\n",
    "for index, word in enumerate(model.wv.index_to_key):\n",
    "    vocabulary = vocabulary + [{'t' : list(model.wv[word])[0],\n",
    "                                'u' : list(model.wv[word])[1],\n",
    "                                'v' : list(model.wv[word])[2], \n",
    "                                'w' : list(model.wv[word])[3], \n",
    "                                'x' : list(model.wv[word])[4],\n",
    "                                'y' : list(model.wv[word])[5],\n",
    "                                'z' : list(model.wv[word])[6],\n",
    "                                'word' : word}]"
   ]
  },
  {
   "cell_type": "code",
   "execution_count": 14,
   "id": "a44e2e06-e06a-4ec9-9cf2-8c0ed9bf8528",
   "metadata": {},
   "outputs": [],
   "source": [
    "df_high_dimension_vocab = pd.DataFrame(vocabulary).set_index('word', drop = True)"
   ]
  },
  {
   "cell_type": "code",
   "execution_count": 15,
   "id": "a9bca165-236f-4d3b-878c-297242b269f1",
   "metadata": {
    "tags": []
   },
   "outputs": [],
   "source": [
    "wv_reduced = PCA(n_components = 2)\n",
    "wv_reduced.fit(df_high_dimension_vocab[['t', 'u', 'v', 'w', 'x', 'y', 'z']])\n",
    "reduced_vocab_vectors = wv_reduced.transform(df_high_dimension_vocab[['t', 'u', 'v', 'w', 'x', 'y', 'z']])"
   ]
  },
  {
   "cell_type": "code",
   "execution_count": 17,
   "id": "c861612e-b605-4101-aa90-f20459c2913a",
   "metadata": {
    "tags": []
   },
   "outputs": [],
   "source": [
    "df_reduced_vocab = pd.DataFrame({'x': list(reduced_vocab_vectors[:, 0]), \n",
    "                                 'y': list(reduced_vocab_vectors[:, 1]),\n",
    "                                 'word' : df_high_dimension_vocab.index})"
   ]
  },
  {
   "cell_type": "code",
   "execution_count": 19,
   "id": "d2f8da67-f0c0-48a3-a1e5-eb99eadf0f77",
   "metadata": {
    "tags": []
   },
   "outputs": [
    {
     "data": {
      "text/plain": [
       "<Axes: xlabel='x', ylabel='y'>"
      ]
     },
     "execution_count": 19,
     "metadata": {},
     "output_type": "execute_result"
    },
    {
     "data": {
      "image/png": "[encoded data removed]",
      "text/plain": [
       "<Figure size 500x500 with 1 Axes>"
      ]
     },
     "metadata": {},
     "output_type": "display_data"
    }
   ],
   "source": [
    "df_reduced_vocab.plot.scatter(x = 'x', y = 'y', s = 1, marker = 'x', figsize = (5, 5), color = [[0.5, 0.0, 0.0]])"
   ]
  },
  {
   "cell_type": "code",
   "execution_count": 20,
   "id": "532cf978-388d-4e7b-bcad-e93f8ed3c338",
   "metadata": {
    "tags": []
   },
   "outputs": [],
   "source": [
    "df_w_sentences = pd.concat([df_selected[['backers_count',\n",
    "                                         'category',\n",
    "                                         'fx_rate',\n",
    "                                         'goal',\n",
    "                                         'pledged',\n",
    "                                         'state']].loc[df_corpus.index],df_corpus], axis = 1)"
   ]
  },
  {
   "cell_type": "code",
   "execution_count": 21,
   "id": "45c5c3ce-4575-4b11-a04d-39dc97e9a409",
   "metadata": {
    "tags": []
   },
   "outputs": [],
   "source": [
    "df_w_sentences[['t', 'u', 'v', 'w', 'x', 'y', 'z']] = np.nan"
   ]
  },
  {
   "cell_type": "code",
   "execution_count": 51,
   "id": "8fc015da-449d-4f9d-8a7d-0dde21ff3ba5",
   "metadata": {
    "tags": []
   },
   "outputs": [
    {
     "data": {
      "text/html": [
       "<div>\n",
       "<style scoped>\n",
       "    .dataframe tbody tr th:only-of-type {\n",
       "        vertical-align: middle;\n",
       "    }\n",
       "\n",
       "    .dataframe tbody tr th {\n",
       "        vertical-align: top;\n",
       "    }\n",
       "\n",
       "    .dataframe thead th {\n",
       "        text-align: right;\n",
       "    }\n",
       "</style>\n",
       "<table border=\"1\" class=\"dataframe\">\n",
       "  <thead>\n",
       "    <tr style=\"text-align: right;\">\n",
       "      <th></th>\n",
       "      <th>backers_count</th>\n",
       "      <th>category</th>\n",
       "      <th>fx_rate</th>\n",
       "      <th>goal</th>\n",
       "      <th>pledged</th>\n",
       "      <th>state</th>\n",
       "      <th>sentences</th>\n",
       "      <th>t</th>\n",
       "      <th>u</th>\n",
       "      <th>v</th>\n",
       "      <th>w</th>\n",
       "      <th>x</th>\n",
       "      <th>y</th>\n",
       "      <th>z</th>\n",
       "      <th>goal_usd</th>\n",
       "      <th>pledged_usd</th>\n",
       "    </tr>\n",
       "  </thead>\n",
       "  <tbody>\n",
       "    <tr>\n",
       "      <th>0</th>\n",
       "      <td>230</td>\n",
       "      <td>Software</td>\n",
       "      <td>1.238278</td>\n",
       "      <td>1999.0</td>\n",
       "      <td>6746.0</td>\n",
       "      <td>successful</td>\n",
       "      <td>Cisco CCNA and CCNA Security for the Real Worl...</td>\n",
       "      <td>-0.614744</td>\n",
       "      <td>-1.362357</td>\n",
       "      <td>1.256272</td>\n",
       "      <td>2.776866</td>\n",
       "      <td>0.758209</td>\n",
       "      <td>-3.470245</td>\n",
       "      <td>0.106088</td>\n",
       "      <td>2475.318022</td>\n",
       "      <td>8353.424400</td>\n",
       "    </tr>\n",
       "    <tr>\n",
       "      <th>1</th>\n",
       "      <td>34</td>\n",
       "      <td>Software</td>\n",
       "      <td>1.238278</td>\n",
       "      <td>200.0</td>\n",
       "      <td>1079.0</td>\n",
       "      <td>successful</td>\n",
       "      <td>Strong File Encryption Tool. strong-file-encry...</td>\n",
       "      <td>0.849055</td>\n",
       "      <td>-2.193782</td>\n",
       "      <td>-0.047758</td>\n",
       "      <td>3.997278</td>\n",
       "      <td>0.735483</td>\n",
       "      <td>-0.739189</td>\n",
       "      <td>1.670300</td>\n",
       "      <td>247.655630</td>\n",
       "      <td>1336.102124</td>\n",
       "    </tr>\n",
       "  </tbody>\n",
       "</table>\n",
       "</div>"
      ],
      "text/plain": [
       "   backers_count  category   fx_rate    goal  pledged       state  \\\n",
       "0            230  Software  1.238278  1999.0   6746.0  successful   \n",
       "1             34  Software  1.238278   200.0   1079.0  successful   \n",
       "\n",
       "                                           sentences         t         u  \\\n",
       "0  Cisco CCNA and CCNA Security for the Real Worl... -0.614744 -1.362357   \n",
       "1  Strong File Encryption Tool. strong-file-encry...  0.849055 -2.193782   \n",
       "\n",
       "          v         w         x         y         z     goal_usd  pledged_usd  \n",
       "0  1.256272  2.776866  0.758209 -3.470245  0.106088  2475.318022  8353.424400  \n",
       "1 -0.047758  3.997278  0.735483 -0.739189  1.670300   247.655630  1336.102124  "
      ]
     },
     "execution_count": 51,
     "metadata": {},
     "output_type": "execute_result"
    }
   ],
   "source": [
    "df_w_sentences.head(2)"
   ]
  },
  {
   "cell_type": "code",
   "execution_count": 23,
   "id": "421fedf3-33ef-4413-adda-2e5582b63644",
   "metadata": {
    "tags": []
   },
   "outputs": [],
   "source": [
    "def sentence_median(sentence_string):\n",
    "    processed_sentence = simple_preprocess(sentence_string);\n",
    "    sentence_list = [];\n",
    "    sentence_median = 7*[np.nan];\n",
    "    for word in processed_sentence:\n",
    "        try:      \n",
    "            sentence_list.append(df_high_dimension_vocab.loc[word])\n",
    "        except:\n",
    "            break;\n",
    "            \n",
    "    sentence_array = np.array(sentence_list)\n",
    "    return np.median(sentence_array, axis = 0)"
   ]
  },
  {
   "cell_type": "code",
   "execution_count": null,
   "id": "9ea0dde1-2eaa-4c73-80b5-1c53ea596781",
   "metadata": {
    "tags": []
   },
   "outputs": [],
   "source": [
    "error_index = []\n",
    "for index, row in df_w_sentences.iterrows():\n",
    "    try:\n",
    "        df_w_sentences.loc[index, ['t', 'u', 'v', 'w', 'x', 'y', 'z']] = sentence_median(row['sentences'])\n",
    "    except:\n",
    "        error_index.append(index)"
   ]
  },
  {
   "cell_type": "code",
   "execution_count": 50,
   "id": "a46a9691-4bb2-48a6-9de4-4430e687684c",
   "metadata": {
    "tags": []
   },
   "outputs": [
    {
     "data": {
      "text/html": [
       "<div>\n",
       "<style scoped>\n",
       "    .dataframe tbody tr th:only-of-type {\n",
       "        vertical-align: middle;\n",
       "    }\n",
       "\n",
       "    .dataframe tbody tr th {\n",
       "        vertical-align: top;\n",
       "    }\n",
       "\n",
       "    .dataframe thead th {\n",
       "        text-align: right;\n",
       "    }\n",
       "</style>\n",
       "<table border=\"1\" class=\"dataframe\">\n",
       "  <thead>\n",
       "    <tr style=\"text-align: right;\">\n",
       "      <th></th>\n",
       "      <th>backers_count</th>\n",
       "      <th>category</th>\n",
       "      <th>fx_rate</th>\n",
       "      <th>goal</th>\n",
       "      <th>pledged</th>\n",
       "      <th>state</th>\n",
       "      <th>sentences</th>\n",
       "      <th>t</th>\n",
       "      <th>u</th>\n",
       "      <th>v</th>\n",
       "      <th>w</th>\n",
       "      <th>x</th>\n",
       "      <th>y</th>\n",
       "      <th>z</th>\n",
       "      <th>goal_usd</th>\n",
       "      <th>pledged_usd</th>\n",
       "    </tr>\n",
       "  </thead>\n",
       "  <tbody>\n",
       "    <tr>\n",
       "      <th>0</th>\n",
       "      <td>230</td>\n",
       "      <td>Software</td>\n",
       "      <td>1.238278</td>\n",
       "      <td>1999.0</td>\n",
       "      <td>6746.0</td>\n",
       "      <td>successful</td>\n",
       "      <td>Cisco CCNA and CCNA Security for the Real Worl...</td>\n",
       "      <td>-0.614744</td>\n",
       "      <td>-1.362357</td>\n",
       "      <td>1.256272</td>\n",
       "      <td>2.776866</td>\n",
       "      <td>0.758209</td>\n",
       "      <td>-3.470245</td>\n",
       "      <td>0.106088</td>\n",
       "      <td>2475.318022</td>\n",
       "      <td>8353.424400</td>\n",
       "    </tr>\n",
       "    <tr>\n",
       "      <th>1</th>\n",
       "      <td>34</td>\n",
       "      <td>Software</td>\n",
       "      <td>1.238278</td>\n",
       "      <td>200.0</td>\n",
       "      <td>1079.0</td>\n",
       "      <td>successful</td>\n",
       "      <td>Strong File Encryption Tool. strong-file-encry...</td>\n",
       "      <td>0.849055</td>\n",
       "      <td>-2.193782</td>\n",
       "      <td>-0.047758</td>\n",
       "      <td>3.997278</td>\n",
       "      <td>0.735483</td>\n",
       "      <td>-0.739189</td>\n",
       "      <td>1.670300</td>\n",
       "      <td>247.655630</td>\n",
       "      <td>1336.102124</td>\n",
       "    </tr>\n",
       "  </tbody>\n",
       "</table>\n",
       "</div>"
      ],
      "text/plain": [
       "   backers_count  category   fx_rate    goal  pledged       state  \\\n",
       "0            230  Software  1.238278  1999.0   6746.0  successful   \n",
       "1             34  Software  1.238278   200.0   1079.0  successful   \n",
       "\n",
       "                                           sentences         t         u  \\\n",
       "0  Cisco CCNA and CCNA Security for the Real Worl... -0.614744 -1.362357   \n",
       "1  Strong File Encryption Tool. strong-file-encry...  0.849055 -2.193782   \n",
       "\n",
       "          v         w         x         y         z     goal_usd  pledged_usd  \n",
       "0  1.256272  2.776866  0.758209 -3.470245  0.106088  2475.318022  8353.424400  \n",
       "1 -0.047758  3.997278  0.735483 -0.739189  1.670300   247.655630  1336.102124  "
      ]
     },
     "execution_count": 50,
     "metadata": {},
     "output_type": "execute_result"
    }
   ],
   "source": [
    "df_w_sentences.head(2)"
   ]
  },
  {
   "cell_type": "code",
   "execution_count": 26,
   "id": "495b76a9-d57b-4679-a704-bb487d4033bb",
   "metadata": {
    "tags": []
   },
   "outputs": [],
   "source": [
    "df_w_sentences['goal_usd'] = df_w_sentences['goal'] * df_w_sentences['fx_rate']"
   ]
  },
  {
   "cell_type": "code",
   "execution_count": 27,
   "id": "bc41969a-82cd-40c0-ac7a-f80ba4bca17b",
   "metadata": {
    "tags": []
   },
   "outputs": [],
   "source": [
    "df_w_sentences['pledged_usd'] = df_w_sentences['pledged'] * df_w_sentences['fx_rate']"
   ]
  },
  {
   "cell_type": "code",
   "execution_count": 28,
   "id": "2a3ab575-8c42-409c-a772-ead7c5e94853",
   "metadata": {
    "tags": []
   },
   "outputs": [],
   "source": [
    "df_cluster = df_w_sentences[['category', 'state','backers_count', 'goal_usd', 'pledged_usd','t', 'u', 'v', 'w', 'x', 'y', 'z']]"
   ]
  },
  {
   "cell_type": "code",
   "execution_count": 29,
   "id": "c98fc133-7130-4fdd-8f03-14ce1e7bd48e",
   "metadata": {
    "tags": []
   },
   "outputs": [],
   "source": [
    "def map_state_to_number(state_string):\n",
    "    lookup = {\"failed\": -3.0,\n",
    "              \"canceled\": -2.0,\n",
    "              \"suspended\" : -1.0,\n",
    "              \"submitted\" : 0.0,\n",
    "              \"started\" : 1.0,\n",
    "              \"live\" : 2.0,\n",
    "              \"successful\" : 3.0};\n",
    "    try:\n",
    "        value = lookup[state_string];\n",
    "    except:\n",
    "        value = np.nan;\n",
    "        \n",
    "    return value;"
   ]
  },
  {
   "cell_type": "code",
   "execution_count": 42,
   "id": "7ea79c7d-425b-443d-98d2-9d7d857497c5",
   "metadata": {},
   "outputs": [],
   "source": [
    "category_lookup = {}\n",
    "for index, item in enumerate(list(set(df_w_sentences['category']))):\n",
    "    category_lookup.update({item: index})"
   ]
  },
  {
   "cell_type": "code",
   "execution_count": 44,
   "id": "4c352efa-e17f-442b-88b4-c935f113baa0",
   "metadata": {},
   "outputs": [],
   "source": [
    "def map_category_to_number(state_string, category_lookup):\n",
    "    try:\n",
    "        value = category_lookup[state_string];\n",
    "    except:\n",
    "        value = -1.1;\n",
    "    \n",
    "    return value"
   ]
  },
  {
   "cell_type": "code",
   "execution_count": 35,
   "id": "cc891802-4b1c-4dad-9de0-d02028d48397",
   "metadata": {
    "tags": []
   },
   "outputs": [],
   "source": [
    "df_cluster_copy = df_cluster.copy()"
   ]
  },
  {
   "cell_type": "code",
   "execution_count": 36,
   "id": "21cedd0b-c86f-4cdb-af32-4c6acbc9cbbd",
   "metadata": {
    "tags": []
   },
   "outputs": [
    {
     "data": {
      "text/plain": [
       "Index(['category', 'state', 'backers_count', 'goal_usd', 'pledged_usd', 't',\n",
       "       'u', 'v', 'w', 'x', 'y', 'z'],\n",
       "      dtype='object')"
      ]
     },
     "execution_count": 36,
     "metadata": {},
     "output_type": "execute_result"
    }
   ],
   "source": [
    "df_cluster_copy.columns"
   ]
  },
  {
   "cell_type": "code",
   "execution_count": 37,
   "id": "c666a089-6b43-4be7-96d9-02b78ba86bba",
   "metadata": {},
   "outputs": [],
   "source": [
    "df_cluster_copy['state'] = df_cluster['state'].apply(lambda x : map_state_to_number(x))"
   ]
  },
  {
   "cell_type": "code",
   "execution_count": 45,
   "id": "b4f0d881-1944-46f3-aa37-27ddb76c8e90",
   "metadata": {},
   "outputs": [],
   "source": [
    "df_cluster_copy['category'] = df_cluster['category'].apply(lambda x : map_category_to_number(x, category_lookup))"
   ]
  },
  {
   "cell_type": "code",
   "execution_count": 39,
   "id": "baf79d3f-fcce-4edc-a547-30c477f813cd",
   "metadata": {
    "tags": []
   },
   "outputs": [
    {
     "data": {
      "text/plain": [
       "array([[<Axes: title={'center': 'state'}>]], dtype=object)"
      ]
     },
     "execution_count": 39,
     "metadata": {},
     "output_type": "execute_result"
    },
    {
     "data": {
      "image/png": "[encoded data removed]",
      "text/plain": [
       "<Figure size 640x480 with 1 Axes>"
      ]
     },
     "metadata": {},
     "output_type": "display_data"
    }
   ],
   "source": [
    "df_cluster_copy.hist(column = 'state', grid = True)"
   ]
  },
  {
   "cell_type": "code",
   "execution_count": 46,
   "id": "f7767b06-9403-48f7-acb2-37fbb0ea6882",
   "metadata": {
    "tags": []
   },
   "outputs": [
    {
     "data": {
      "text/plain": [
       "array([[<Axes: title={'center': 'category'}>]], dtype=object)"
      ]
     },
     "execution_count": 46,
     "metadata": {},
     "output_type": "execute_result"
    },
    {
     "data": {
      "image/png": "[encoded data removed]",
      "text/plain": [
       "<Figure size 640x480 with 1 Axes>"
      ]
     },
     "metadata": {},
     "output_type": "display_data"
    }
   ],
   "source": [
    "df_cluster_copy.hist(column = 'category', grid = True)"
   ]
  },
  {
   "cell_type": "code",
   "execution_count": 47,
   "id": "298a42c1-9730-4d7b-ac48-03fd9d743a4f",
   "metadata": {
    "tags": []
   },
   "outputs": [],
   "source": [
    "df_cluster_copy.to_csv(\"./kickstarter_numerical_clustering_dataset.csv\", index = False)"
   ]
  },
  {
   "cell_type": "code",
   "execution_count": 48,
   "id": "1cc55669-706c-4bde-bb79-cd4aeb40705f",
   "metadata": {
    "tags": []
   },
   "outputs": [
    {
     "data": {
      "text/html": [
       "<div>\n",
       "<style scoped>\n",
       "    .dataframe tbody tr th:only-of-type {\n",
       "        vertical-align: middle;\n",
       "    }\n",
       "\n",
       "    .dataframe tbody tr th {\n",
       "        vertical-align: top;\n",
       "    }\n",
       "\n",
       "    .dataframe thead th {\n",
       "        text-align: right;\n",
       "    }\n",
       "</style>\n",
       "<table border=\"1\" class=\"dataframe\">\n",
       "  <thead>\n",
       "    <tr style=\"text-align: right;\">\n",
       "      <th></th>\n",
       "      <th>category</th>\n",
       "      <th>state</th>\n",
       "      <th>backers_count</th>\n",
       "      <th>goal_usd</th>\n",
       "      <th>pledged_usd</th>\n",
       "      <th>t</th>\n",
       "      <th>u</th>\n",
       "      <th>v</th>\n",
       "      <th>w</th>\n",
       "      <th>x</th>\n",
       "      <th>y</th>\n",
       "      <th>z</th>\n",
       "    </tr>\n",
       "  </thead>\n",
       "  <tbody>\n",
       "    <tr>\n",
       "      <th>0</th>\n",
       "      <td>79</td>\n",
       "      <td>3.0</td>\n",
       "      <td>230</td>\n",
       "      <td>2475.318022</td>\n",
       "      <td>8353.424400</td>\n",
       "      <td>-0.614744</td>\n",
       "      <td>-1.362357</td>\n",
       "      <td>1.256272</td>\n",
       "      <td>2.776866</td>\n",
       "      <td>0.758209</td>\n",
       "      <td>-3.470245</td>\n",
       "      <td>0.106088</td>\n",
       "    </tr>\n",
       "    <tr>\n",
       "      <th>1</th>\n",
       "      <td>79</td>\n",
       "      <td>3.0</td>\n",
       "      <td>34</td>\n",
       "      <td>247.655630</td>\n",
       "      <td>1336.102124</td>\n",
       "      <td>0.849055</td>\n",
       "      <td>-2.193782</td>\n",
       "      <td>-0.047758</td>\n",
       "      <td>3.997278</td>\n",
       "      <td>0.735483</td>\n",
       "      <td>-0.739189</td>\n",
       "      <td>1.670300</td>\n",
       "    </tr>\n",
       "    <tr>\n",
       "      <th>2</th>\n",
       "      <td>79</td>\n",
       "      <td>3.0</td>\n",
       "      <td>226</td>\n",
       "      <td>10000.000000</td>\n",
       "      <td>17451.000000</td>\n",
       "      <td>0.089434</td>\n",
       "      <td>-2.562426</td>\n",
       "      <td>-0.719220</td>\n",
       "      <td>3.136730</td>\n",
       "      <td>0.998678</td>\n",
       "      <td>-2.530694</td>\n",
       "      <td>1.012942</td>\n",
       "    </tr>\n",
       "    <tr>\n",
       "      <th>3</th>\n",
       "      <td>79</td>\n",
       "      <td>3.0</td>\n",
       "      <td>655</td>\n",
       "      <td>50000.000000</td>\n",
       "      <td>51309.830000</td>\n",
       "      <td>-1.801973</td>\n",
       "      <td>-3.125506</td>\n",
       "      <td>1.132509</td>\n",
       "      <td>4.232285</td>\n",
       "      <td>1.994624</td>\n",
       "      <td>-2.952389</td>\n",
       "      <td>-0.026714</td>\n",
       "    </tr>\n",
       "    <tr>\n",
       "      <th>4</th>\n",
       "      <td>79</td>\n",
       "      <td>3.0</td>\n",
       "      <td>24</td>\n",
       "      <td>123.772180</td>\n",
       "      <td>301.385258</td>\n",
       "      <td>-0.002953</td>\n",
       "      <td>-3.250757</td>\n",
       "      <td>-2.425439</td>\n",
       "      <td>4.620069</td>\n",
       "      <td>2.635032</td>\n",
       "      <td>-1.965134</td>\n",
       "      <td>1.229133</td>\n",
       "    </tr>\n",
       "  </tbody>\n",
       "</table>\n",
       "</div>"
      ],
      "text/plain": [
       "   category  state  backers_count      goal_usd   pledged_usd         t  \\\n",
       "0        79    3.0            230   2475.318022   8353.424400 -0.614744   \n",
       "1        79    3.0             34    247.655630   1336.102124  0.849055   \n",
       "2        79    3.0            226  10000.000000  17451.000000  0.089434   \n",
       "3        79    3.0            655  50000.000000  51309.830000 -1.801973   \n",
       "4        79    3.0             24    123.772180    301.385258 -0.002953   \n",
       "\n",
       "          u         v         w         x         y         z  \n",
       "0 -1.362357  1.256272  2.776866  0.758209 -3.470245  0.106088  \n",
       "1 -2.193782 -0.047758  3.997278  0.735483 -0.739189  1.670300  \n",
       "2 -2.562426 -0.719220  3.136730  0.998678 -2.530694  1.012942  \n",
       "3 -3.125506  1.132509  4.232285  1.994624 -2.952389 -0.026714  \n",
       "4 -3.250757 -2.425439  4.620069  2.635032 -1.965134  1.229133  "
      ]
     },
     "execution_count": 48,
     "metadata": {},
     "output_type": "execute_result"
    }
   ],
   "source": [
    "df_cluster_copy.head()"
   ]
  },
  {
   "cell_type": "code",
   "execution_count": null,
   "id": "698e7af0-17a7-4422-801a-21267433b035",
   "metadata": {},
   "outputs": [],
   "source": []
  }
 ],
 "metadata": {
  "kernelspec": {
   "display_name": "Python 3 (ipykernel)",
   "language": "python",
   "name": "python3"
  },
  "language_info": {
   "codemirror_mode": {
    "name": "ipython",
    "version": 3
   },
   "file_extension": ".py",
   "mimetype": "text/x-python",
   "name": "python",
   "nbconvert_exporter": "python",
   "pygments_lexer": "ipython3",
   "version": "3.11.5"
  }
 },
 "nbformat": 4,
 "nbformat_minor": 5
}
