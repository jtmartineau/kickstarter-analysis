{
 "cells": [
  {
   "cell_type": "code",
   "execution_count": 16,
   "id": "8f953b90-f25f-4f11-8c77-5053c2cfa8d8",
   "metadata": {
    "tags": []
   },
   "outputs": [],
   "source": [
    "import requests\n",
    "import random\n",
    "from bs4 import BeautifulSoup\n",
    "from os import listdir\n",
    "from os.path import isfile, join\n",
    "import pandas as pd\n",
    "import ast\n",
    "from sklearn.linear_model import LinearRegression\n",
    "from sklearn.linear_model import LogisticRegression\n",
    "from sklearn.linear_model import Lasso\n",
    "from sklearn.linear_model import ElasticNet\n",
    "from sklearn.linear_model import Ridge\n",
    "from sklearn.preprocessing import StandardScaler\n",
    "from sklearn.model_selection import train_test_split\n",
    "from sklearn.decomposition import PCA\n",
    "import plotly.express as px\n",
    "import numpy as np\n",
    "import scipy"
   ]
  },
  {
   "cell_type": "code",
   "execution_count": 2,
   "id": "f9173f8a-e1ee-433a-a89c-7322ae37951d",
   "metadata": {
    "tags": []
   },
   "outputs": [],
   "source": [
    "from gensim.models import Word2Vec\n",
    "from gensim.utils import simple_preprocess"
   ]
  },
  {
   "cell_type": "code",
   "execution_count": 3,
   "id": "e9f59997-c331-4137-8888-fa87fe3b373a",
   "metadata": {
    "tags": []
   },
   "outputs": [],
   "source": [
    "pd.set_option('display.max_columns', 1000)"
   ]
  },
  {
   "cell_type": "code",
   "execution_count": 4,
   "id": "d13fa6d7-ae0c-4ca9-b9a8-c0534c1ba41f",
   "metadata": {},
   "outputs": [],
   "source": [
    "month_folders = ['April2023', 'August2023', 'February2023', 'January2022',\n",
    "                 'January2023', 'July2023', 'June2023', 'March2023', 'May2023', 'September2023'];"
   ]
  },
  {
   "cell_type": "code",
   "execution_count": 5,
   "id": "1d455b66-1f0e-41c1-a188-e07cbc239b13",
   "metadata": {
    "tags": []
   },
   "outputs": [],
   "source": [
    "raw_df = pd.DataFrame();\n",
    "\n",
    "current_paths = [];\n",
    "for month in month_folders:\n",
    "    current_paths = current_paths + [join(month, x) for x in listdir(month) if '.csv' in x]\n",
    "\n",
    "for current_path in current_paths:\n",
    "    df_temp = pd.read_csv(current_path);\n",
    "    raw_df = pd.concat([raw_df, df_temp])\n",
    "\n",
    "raw_df = raw_df.reset_index(drop = True)"
   ]
  },
  {
   "cell_type": "code",
   "execution_count": 6,
   "id": "7eebebeb-8b47-42fd-92e6-f135c26a56f9",
   "metadata": {
    "tags": []
   },
   "outputs": [],
   "source": [
    "df_selected = raw_df[['backers_count', 'blurb', \n",
    "                      'country', 'creator',\n",
    "                      'currency', 'currency_trailing_code',\n",
    "                      'disable_communication', 'fx_rate',\n",
    "                      'goal', 'is_starrable', 'name',\n",
    "                      'pledged', 'slug', 'spotlight',\n",
    "                      'staff_pick', 'state', 'usd_exchange_rate',\n",
    "                      'usd_pledged']]"
   ]
  },
  {
   "cell_type": "code",
   "execution_count": 7,
   "id": "a60f40e2-ff2d-4f81-831e-2c4f0f4d986e",
   "metadata": {
    "tags": []
   },
   "outputs": [],
   "source": [
    "corpus = [];\n",
    "corpus_index = []\n",
    "\n",
    "for index, row in df_selected.iterrows():\n",
    "    try:\n",
    "        sentence = [row['name'] + '. ' + row['slug'] + '. ' + row['blurb']];\n",
    "        corpus = corpus + sentence;\n",
    "        corpus_index.append(index);\n",
    "    \n",
    "    except:\n",
    "        continue;"
   ]
  },
  {
   "cell_type": "code",
   "execution_count": 58,
   "id": "c5e2befa-eed6-46bc-9dd6-edf0dfbc65df",
   "metadata": {},
   "outputs": [],
   "source": [
    "df_corpus = pd.DataFrame({'sentences' : corpus}, index = corpus_index)"
   ]
  },
  {
   "cell_type": "code",
   "execution_count": 9,
   "id": "c1adeace-b4b3-4e54-b65b-06eb27d6e638",
   "metadata": {
    "tags": []
   },
   "outputs": [],
   "source": [
    "corpus_preprocessed = [simple_preprocess(i) for i in corpus]"
   ]
  },
  {
   "cell_type": "code",
   "execution_count": 10,
   "id": "3a203539-549e-4251-bb9a-d065c490f146",
   "metadata": {
    "tags": []
   },
   "outputs": [],
   "source": [
    "model = Word2Vec(corpus_preprocessed, min_count = 1, vector_size = 7)"
   ]
  },
  {
   "cell_type": "code",
   "execution_count": 11,
   "id": "f3159991-4f4c-4b19-ab3e-333df67314e1",
   "metadata": {
    "tags": []
   },
   "outputs": [],
   "source": [
    "vocabulary = []\n",
    "for index, word in enumerate(model.wv.index_to_key):\n",
    "    vocabulary = vocabulary + [{'t' : list(model.wv[word])[0],\n",
    "                                'u' : list(model.wv[word])[1],\n",
    "                                'v' : list(model.wv[word])[2], \n",
    "                                'w' : list(model.wv[word])[3], \n",
    "                                'x' : list(model.wv[word])[4],\n",
    "                                'y' : list(model.wv[word])[5],\n",
    "                                'z' : list(model.wv[word])[6],\n",
    "                                'word' : word}]"
   ]
  },
  {
   "cell_type": "code",
   "execution_count": 22,
   "id": "a44e2e06-e06a-4ec9-9cf2-8c0ed9bf8528",
   "metadata": {},
   "outputs": [],
   "source": [
    "df_high_dimension_vocab = pd.DataFrame(vocabulary).set_index('word', drop = True)"
   ]
  },
  {
   "cell_type": "code",
   "execution_count": 13,
   "id": "a9bca165-236f-4d3b-878c-297242b269f1",
   "metadata": {
    "tags": []
   },
   "outputs": [],
   "source": [
    "wv_reduced = PCA(n_components = 2)\n",
    "wv_reduced.fit(df_high_dimension_vocab[['t', 'u', 'v', 'w', 'x', 'y', 'z']])\n",
    "reduced_vocab_vectors = wv_reduced.transform(df_high_dimension_vocab[['t', 'u', 'v', 'w', 'x', 'y', 'z']])"
   ]
  },
  {
   "cell_type": "code",
   "execution_count": 17,
   "id": "c861612e-b605-4101-aa90-f20459c2913a",
   "metadata": {
    "tags": []
   },
   "outputs": [],
   "source": [
    "df_reduced_vocab = pd.DataFrame({'x': list(reduced_vocab_vectors[:, 0]), \n",
    "                                 'y': list(reduced_vocab_vectors[:, 1]),\n",
    "                                 'word' : df_high_dimension_vocab['word']})"
   ]
  },
  {
   "cell_type": "code",
   "execution_count": 18,
   "id": "d2f8da67-f0c0-48a3-a1e5-eb99eadf0f77",
   "metadata": {
    "tags": []
   },
   "outputs": [
    {
     "data": {
      "text/plain": [
       "<Axes: xlabel='x', ylabel='y'>"
      ]
     },
     "execution_count": 18,
     "metadata": {},
     "output_type": "execute_result"
    },
    {
     "data": {
      "image/png": "[encoded data removed]",
      "text/plain": [
       "<Figure size 500x500 with 1 Axes>"
      ]
     },
     "metadata": {},
     "output_type": "display_data"
    }
   ],
   "source": [
    "df_reduced_vocab.plot.scatter(x = 'x', y = 'y', s = 1, marker = 'x', figsize = (5, 5), color = [[0.5, 0.0, 0.0]])"
   ]
  },
  {
   "cell_type": "code",
   "execution_count": 60,
   "id": "532cf978-388d-4e7b-bcad-e93f8ed3c338",
   "metadata": {
    "tags": []
   },
   "outputs": [],
   "source": [
    "df_w_sentences = pd.concat([df_selected[['backers_count',\n",
    "                                     'fx_rate',\n",
    "                                     'goal',\n",
    "                                     'pledged',\n",
    "                                     'state']].loc[df_corpus.index],\n",
    "                        df_corpus], axis = 1)"
   ]
  },
  {
   "cell_type": "code",
   "execution_count": 61,
   "id": "45c5c3ce-4575-4b11-a04d-39dc97e9a409",
   "metadata": {
    "tags": []
   },
   "outputs": [],
   "source": [
    "df_w_sentences[['t', 'u', 'v', 'w', 'x', 'y', 'z']] = np.nan"
   ]
  },
  {
   "cell_type": "code",
   "execution_count": 63,
   "id": "8fc015da-449d-4f9d-8a7d-0dde21ff3ba5",
   "metadata": {
    "tags": []
   },
   "outputs": [
    {
     "data": {
      "text/html": [
       "<div>\n",
       "<style scoped>\n",
       "    .dataframe tbody tr th:only-of-type {\n",
       "        vertical-align: middle;\n",
       "    }\n",
       "\n",
       "    .dataframe tbody tr th {\n",
       "        vertical-align: top;\n",
       "    }\n",
       "\n",
       "    .dataframe thead th {\n",
       "        text-align: right;\n",
       "    }\n",
       "</style>\n",
       "<table border=\"1\" class=\"dataframe\">\n",
       "  <thead>\n",
       "    <tr style=\"text-align: right;\">\n",
       "      <th></th>\n",
       "      <th>backers_count</th>\n",
       "      <th>fx_rate</th>\n",
       "      <th>goal</th>\n",
       "      <th>pledged</th>\n",
       "      <th>state</th>\n",
       "      <th>sentences</th>\n",
       "      <th>t</th>\n",
       "      <th>u</th>\n",
       "      <th>v</th>\n",
       "      <th>w</th>\n",
       "      <th>x</th>\n",
       "      <th>y</th>\n",
       "      <th>z</th>\n",
       "    </tr>\n",
       "  </thead>\n",
       "  <tbody>\n",
       "    <tr>\n",
       "      <th>0</th>\n",
       "      <td>230</td>\n",
       "      <td>1.238278</td>\n",
       "      <td>1999.0</td>\n",
       "      <td>6746.00</td>\n",
       "      <td>successful</td>\n",
       "      <td>Cisco CCNA and CCNA Security for the Real Worl...</td>\n",
       "      <td>NaN</td>\n",
       "      <td>NaN</td>\n",
       "      <td>NaN</td>\n",
       "      <td>NaN</td>\n",
       "      <td>NaN</td>\n",
       "      <td>NaN</td>\n",
       "      <td>NaN</td>\n",
       "    </tr>\n",
       "    <tr>\n",
       "      <th>1</th>\n",
       "      <td>34</td>\n",
       "      <td>1.238278</td>\n",
       "      <td>200.0</td>\n",
       "      <td>1079.00</td>\n",
       "      <td>successful</td>\n",
       "      <td>Strong File Encryption Tool. strong-file-encry...</td>\n",
       "      <td>NaN</td>\n",
       "      <td>NaN</td>\n",
       "      <td>NaN</td>\n",
       "      <td>NaN</td>\n",
       "      <td>NaN</td>\n",
       "      <td>NaN</td>\n",
       "      <td>NaN</td>\n",
       "    </tr>\n",
       "    <tr>\n",
       "      <th>2</th>\n",
       "      <td>226</td>\n",
       "      <td>1.000000</td>\n",
       "      <td>10000.0</td>\n",
       "      <td>17451.00</td>\n",
       "      <td>successful</td>\n",
       "      <td>YaCyPi - Turnkey Raspberry Pi based Internet S...</td>\n",
       "      <td>NaN</td>\n",
       "      <td>NaN</td>\n",
       "      <td>NaN</td>\n",
       "      <td>NaN</td>\n",
       "      <td>NaN</td>\n",
       "      <td>NaN</td>\n",
       "      <td>NaN</td>\n",
       "    </tr>\n",
       "    <tr>\n",
       "      <th>3</th>\n",
       "      <td>655</td>\n",
       "      <td>1.000000</td>\n",
       "      <td>50000.0</td>\n",
       "      <td>51309.83</td>\n",
       "      <td>successful</td>\n",
       "      <td>Everydisk – Easily access all your computers, ...</td>\n",
       "      <td>NaN</td>\n",
       "      <td>NaN</td>\n",
       "      <td>NaN</td>\n",
       "      <td>NaN</td>\n",
       "      <td>NaN</td>\n",
       "      <td>NaN</td>\n",
       "      <td>NaN</td>\n",
       "    </tr>\n",
       "    <tr>\n",
       "      <th>4</th>\n",
       "      <td>24</td>\n",
       "      <td>0.618861</td>\n",
       "      <td>200.0</td>\n",
       "      <td>487.00</td>\n",
       "      <td>successful</td>\n",
       "      <td>Traccar Client for iOS. traccar-client-for-ios...</td>\n",
       "      <td>NaN</td>\n",
       "      <td>NaN</td>\n",
       "      <td>NaN</td>\n",
       "      <td>NaN</td>\n",
       "      <td>NaN</td>\n",
       "      <td>NaN</td>\n",
       "      <td>NaN</td>\n",
       "    </tr>\n",
       "    <tr>\n",
       "      <th>...</th>\n",
       "      <td>...</td>\n",
       "      <td>...</td>\n",
       "      <td>...</td>\n",
       "      <td>...</td>\n",
       "      <td>...</td>\n",
       "      <td>...</td>\n",
       "      <td>...</td>\n",
       "      <td>...</td>\n",
       "      <td>...</td>\n",
       "      <td>...</td>\n",
       "      <td>...</td>\n",
       "      <td>...</td>\n",
       "      <td>...</td>\n",
       "    </tr>\n",
       "    <tr>\n",
       "      <th>361861</th>\n",
       "      <td>3</td>\n",
       "      <td>1.249716</td>\n",
       "      <td>12000.0</td>\n",
       "      <td>65.00</td>\n",
       "      <td>failed</td>\n",
       "      <td>Treaty Pie Dessert Extraordinaire. treaty-pie-...</td>\n",
       "      <td>NaN</td>\n",
       "      <td>NaN</td>\n",
       "      <td>NaN</td>\n",
       "      <td>NaN</td>\n",
       "      <td>NaN</td>\n",
       "      <td>NaN</td>\n",
       "      <td>NaN</td>\n",
       "    </tr>\n",
       "    <tr>\n",
       "      <th>361862</th>\n",
       "      <td>26</td>\n",
       "      <td>1.249716</td>\n",
       "      <td>3000.0</td>\n",
       "      <td>4882.00</td>\n",
       "      <td>successful</td>\n",
       "      <td>Flights of Fancy - A trio of brand new print e...</td>\n",
       "      <td>NaN</td>\n",
       "      <td>NaN</td>\n",
       "      <td>NaN</td>\n",
       "      <td>NaN</td>\n",
       "      <td>NaN</td>\n",
       "      <td>NaN</td>\n",
       "      <td>NaN</td>\n",
       "    </tr>\n",
       "    <tr>\n",
       "      <th>361863</th>\n",
       "      <td>99</td>\n",
       "      <td>1.074469</td>\n",
       "      <td>5000.0</td>\n",
       "      <td>28074.50</td>\n",
       "      <td>successful</td>\n",
       "      <td>Transform Your Workspace with ERGOZ™. ergoztm-...</td>\n",
       "      <td>NaN</td>\n",
       "      <td>NaN</td>\n",
       "      <td>NaN</td>\n",
       "      <td>NaN</td>\n",
       "      <td>NaN</td>\n",
       "      <td>NaN</td>\n",
       "      <td>NaN</td>\n",
       "    </tr>\n",
       "    <tr>\n",
       "      <th>361864</th>\n",
       "      <td>10</td>\n",
       "      <td>0.738828</td>\n",
       "      <td>1500.0</td>\n",
       "      <td>1500.00</td>\n",
       "      <td>successful</td>\n",
       "      <td>GamerFix.ca. gamerfixca. Video gaming, Movies ...</td>\n",
       "      <td>NaN</td>\n",
       "      <td>NaN</td>\n",
       "      <td>NaN</td>\n",
       "      <td>NaN</td>\n",
       "      <td>NaN</td>\n",
       "      <td>NaN</td>\n",
       "      <td>NaN</td>\n",
       "    </tr>\n",
       "    <tr>\n",
       "      <th>361865</th>\n",
       "      <td>22</td>\n",
       "      <td>1.000000</td>\n",
       "      <td>6000.0</td>\n",
       "      <td>766.00</td>\n",
       "      <td>failed</td>\n",
       "      <td>DIRTY COP : A SONG AGAINST POLICE BRUTALITY. d...</td>\n",
       "      <td>NaN</td>\n",
       "      <td>NaN</td>\n",
       "      <td>NaN</td>\n",
       "      <td>NaN</td>\n",
       "      <td>NaN</td>\n",
       "      <td>NaN</td>\n",
       "      <td>NaN</td>\n",
       "    </tr>\n",
       "  </tbody>\n",
       "</table>\n",
       "<p>361842 rows × 13 columns</p>\n",
       "</div>"
      ],
      "text/plain": [
       "        backers_count   fx_rate     goal   pledged       state  \\\n",
       "0                 230  1.238278   1999.0   6746.00  successful   \n",
       "1                  34  1.238278    200.0   1079.00  successful   \n",
       "2                 226  1.000000  10000.0  17451.00  successful   \n",
       "3                 655  1.000000  50000.0  51309.83  successful   \n",
       "4                  24  0.618861    200.0    487.00  successful   \n",
       "...               ...       ...      ...       ...         ...   \n",
       "361861              3  1.249716  12000.0     65.00      failed   \n",
       "361862             26  1.249716   3000.0   4882.00  successful   \n",
       "361863             99  1.074469   5000.0  28074.50  successful   \n",
       "361864             10  0.738828   1500.0   1500.00  successful   \n",
       "361865             22  1.000000   6000.0    766.00      failed   \n",
       "\n",
       "                                                sentences   t   u   v   w   x  \\\n",
       "0       Cisco CCNA and CCNA Security for the Real Worl... NaN NaN NaN NaN NaN   \n",
       "1       Strong File Encryption Tool. strong-file-encry... NaN NaN NaN NaN NaN   \n",
       "2       YaCyPi - Turnkey Raspberry Pi based Internet S... NaN NaN NaN NaN NaN   \n",
       "3       Everydisk – Easily access all your computers, ... NaN NaN NaN NaN NaN   \n",
       "4       Traccar Client for iOS. traccar-client-for-ios... NaN NaN NaN NaN NaN   \n",
       "...                                                   ...  ..  ..  ..  ..  ..   \n",
       "361861  Treaty Pie Dessert Extraordinaire. treaty-pie-... NaN NaN NaN NaN NaN   \n",
       "361862  Flights of Fancy - A trio of brand new print e... NaN NaN NaN NaN NaN   \n",
       "361863  Transform Your Workspace with ERGOZ™. ergoztm-... NaN NaN NaN NaN NaN   \n",
       "361864  GamerFix.ca. gamerfixca. Video gaming, Movies ... NaN NaN NaN NaN NaN   \n",
       "361865  DIRTY COP : A SONG AGAINST POLICE BRUTALITY. d... NaN NaN NaN NaN NaN   \n",
       "\n",
       "         y   z  \n",
       "0      NaN NaN  \n",
       "1      NaN NaN  \n",
       "2      NaN NaN  \n",
       "3      NaN NaN  \n",
       "4      NaN NaN  \n",
       "...     ..  ..  \n",
       "361861 NaN NaN  \n",
       "361862 NaN NaN  \n",
       "361863 NaN NaN  \n",
       "361864 NaN NaN  \n",
       "361865 NaN NaN  \n",
       "\n",
       "[361842 rows x 13 columns]"
      ]
     },
     "execution_count": 63,
     "metadata": {},
     "output_type": "execute_result"
    }
   ],
   "source": [
    "df_w_sentences"
   ]
  },
  {
   "cell_type": "code",
   "execution_count": 77,
   "id": "421fedf3-33ef-4413-adda-2e5582b63644",
   "metadata": {
    "tags": []
   },
   "outputs": [],
   "source": [
    "def sentence_median(sentence_string):\n",
    "    processed_sentence = simple_preprocess(sentence_string);\n",
    "    sentence_list = [];\n",
    "    sentence_median = 7*[np.nan];\n",
    "    for word in processed_sentence:\n",
    "        try:      \n",
    "            sentence_list.append(df_high_dimension_vocab.loc[word])\n",
    "        except:\n",
    "            break;\n",
    "            \n",
    "    sentence_array = np.array(sentence_list)\n",
    "    return np.median(sentence_array, axis = 0)"
   ]
  },
  {
   "cell_type": "code",
   "execution_count": null,
   "id": "9ea0dde1-2eaa-4c73-80b5-1c53ea596781",
   "metadata": {
    "tags": []
   },
   "outputs": [],
   "source": [
    "error_index = []\n",
    "for index, row in df_w_sentences.iterrows():\n",
    "    try:\n",
    "        df_w_sentences.loc[index, ['t', 'u', 'v', 'w', 'x', 'y', 'z']] = sentence_median(row['sentences'])\n",
    "    except:\n",
    "        error_index.append(index)"
   ]
  },
  {
   "cell_type": "code",
   "execution_count": 92,
   "id": "a46a9691-4bb2-48a6-9de4-4430e687684c",
   "metadata": {
    "tags": []
   },
   "outputs": [
    {
     "data": {
      "text/html": [
       "<div>\n",
       "<style scoped>\n",
       "    .dataframe tbody tr th:only-of-type {\n",
       "        vertical-align: middle;\n",
       "    }\n",
       "\n",
       "    .dataframe tbody tr th {\n",
       "        vertical-align: top;\n",
       "    }\n",
       "\n",
       "    .dataframe thead th {\n",
       "        text-align: right;\n",
       "    }\n",
       "</style>\n",
       "<table border=\"1\" class=\"dataframe\">\n",
       "  <thead>\n",
       "    <tr style=\"text-align: right;\">\n",
       "      <th></th>\n",
       "      <th>backers_count</th>\n",
       "      <th>fx_rate</th>\n",
       "      <th>goal</th>\n",
       "      <th>pledged</th>\n",
       "      <th>state</th>\n",
       "      <th>sentences</th>\n",
       "      <th>t</th>\n",
       "      <th>u</th>\n",
       "      <th>v</th>\n",
       "      <th>w</th>\n",
       "      <th>x</th>\n",
       "      <th>y</th>\n",
       "      <th>z</th>\n",
       "    </tr>\n",
       "  </thead>\n",
       "  <tbody>\n",
       "    <tr>\n",
       "      <th>0</th>\n",
       "      <td>230</td>\n",
       "      <td>1.238278</td>\n",
       "      <td>1999.0</td>\n",
       "      <td>6746.00</td>\n",
       "      <td>successful</td>\n",
       "      <td>Cisco CCNA and CCNA Security for the Real Worl...</td>\n",
       "      <td>-3.027842</td>\n",
       "      <td>-2.188033</td>\n",
       "      <td>1.159999</td>\n",
       "      <td>1.918514</td>\n",
       "      <td>0.399868</td>\n",
       "      <td>-1.565474</td>\n",
       "      <td>1.382393</td>\n",
       "    </tr>\n",
       "    <tr>\n",
       "      <th>1</th>\n",
       "      <td>34</td>\n",
       "      <td>1.238278</td>\n",
       "      <td>200.0</td>\n",
       "      <td>1079.00</td>\n",
       "      <td>successful</td>\n",
       "      <td>Strong File Encryption Tool. strong-file-encry...</td>\n",
       "      <td>0.230554</td>\n",
       "      <td>-2.119461</td>\n",
       "      <td>-0.407646</td>\n",
       "      <td>2.752960</td>\n",
       "      <td>0.214896</td>\n",
       "      <td>0.662422</td>\n",
       "      <td>1.973701</td>\n",
       "    </tr>\n",
       "    <tr>\n",
       "      <th>2</th>\n",
       "      <td>226</td>\n",
       "      <td>1.000000</td>\n",
       "      <td>10000.0</td>\n",
       "      <td>17451.00</td>\n",
       "      <td>successful</td>\n",
       "      <td>YaCyPi - Turnkey Raspberry Pi based Internet S...</td>\n",
       "      <td>-1.172962</td>\n",
       "      <td>-2.981460</td>\n",
       "      <td>-0.562862</td>\n",
       "      <td>2.517519</td>\n",
       "      <td>0.315752</td>\n",
       "      <td>-1.033590</td>\n",
       "      <td>2.172634</td>\n",
       "    </tr>\n",
       "    <tr>\n",
       "      <th>3</th>\n",
       "      <td>655</td>\n",
       "      <td>1.000000</td>\n",
       "      <td>50000.0</td>\n",
       "      <td>51309.83</td>\n",
       "      <td>successful</td>\n",
       "      <td>Everydisk – Easily access all your computers, ...</td>\n",
       "      <td>-3.020664</td>\n",
       "      <td>-3.421177</td>\n",
       "      <td>1.209325</td>\n",
       "      <td>3.813275</td>\n",
       "      <td>0.943118</td>\n",
       "      <td>-0.765127</td>\n",
       "      <td>1.347683</td>\n",
       "    </tr>\n",
       "    <tr>\n",
       "      <th>4</th>\n",
       "      <td>24</td>\n",
       "      <td>0.618861</td>\n",
       "      <td>200.0</td>\n",
       "      <td>487.00</td>\n",
       "      <td>successful</td>\n",
       "      <td>Traccar Client for iOS. traccar-client-for-ios...</td>\n",
       "      <td>-0.217545</td>\n",
       "      <td>-3.884567</td>\n",
       "      <td>-1.775199</td>\n",
       "      <td>3.456568</td>\n",
       "      <td>2.533460</td>\n",
       "      <td>-0.172614</td>\n",
       "      <td>1.890694</td>\n",
       "    </tr>\n",
       "    <tr>\n",
       "      <th>...</th>\n",
       "      <td>...</td>\n",
       "      <td>...</td>\n",
       "      <td>...</td>\n",
       "      <td>...</td>\n",
       "      <td>...</td>\n",
       "      <td>...</td>\n",
       "      <td>...</td>\n",
       "      <td>...</td>\n",
       "      <td>...</td>\n",
       "      <td>...</td>\n",
       "      <td>...</td>\n",
       "      <td>...</td>\n",
       "      <td>...</td>\n",
       "    </tr>\n",
       "    <tr>\n",
       "      <th>361861</th>\n",
       "      <td>3</td>\n",
       "      <td>1.249716</td>\n",
       "      <td>12000.0</td>\n",
       "      <td>65.00</td>\n",
       "      <td>failed</td>\n",
       "      <td>Treaty Pie Dessert Extraordinaire. treaty-pie-...</td>\n",
       "      <td>-2.987972</td>\n",
       "      <td>-0.081058</td>\n",
       "      <td>2.585926</td>\n",
       "      <td>1.330560</td>\n",
       "      <td>0.773816</td>\n",
       "      <td>-2.064120</td>\n",
       "      <td>0.943447</td>\n",
       "    </tr>\n",
       "    <tr>\n",
       "      <th>361862</th>\n",
       "      <td>26</td>\n",
       "      <td>1.249716</td>\n",
       "      <td>3000.0</td>\n",
       "      <td>4882.00</td>\n",
       "      <td>successful</td>\n",
       "      <td>Flights of Fancy - A trio of brand new print e...</td>\n",
       "      <td>-0.087660</td>\n",
       "      <td>-1.167448</td>\n",
       "      <td>3.360322</td>\n",
       "      <td>1.712534</td>\n",
       "      <td>-1.746631</td>\n",
       "      <td>-3.416441</td>\n",
       "      <td>1.047190</td>\n",
       "    </tr>\n",
       "    <tr>\n",
       "      <th>361863</th>\n",
       "      <td>99</td>\n",
       "      <td>1.074469</td>\n",
       "      <td>5000.0</td>\n",
       "      <td>28074.50</td>\n",
       "      <td>successful</td>\n",
       "      <td>Transform Your Workspace with ERGOZ™. ergoztm-...</td>\n",
       "      <td>-2.264019</td>\n",
       "      <td>-1.960554</td>\n",
       "      <td>1.202153</td>\n",
       "      <td>4.105859</td>\n",
       "      <td>0.617760</td>\n",
       "      <td>-0.002033</td>\n",
       "      <td>0.313317</td>\n",
       "    </tr>\n",
       "    <tr>\n",
       "      <th>361864</th>\n",
       "      <td>10</td>\n",
       "      <td>0.738828</td>\n",
       "      <td>1500.0</td>\n",
       "      <td>1500.00</td>\n",
       "      <td>successful</td>\n",
       "      <td>GamerFix.ca. gamerfixca. Video gaming, Movies ...</td>\n",
       "      <td>-2.559416</td>\n",
       "      <td>-1.195013</td>\n",
       "      <td>1.562588</td>\n",
       "      <td>1.935960</td>\n",
       "      <td>0.297486</td>\n",
       "      <td>-1.750213</td>\n",
       "      <td>1.632974</td>\n",
       "    </tr>\n",
       "    <tr>\n",
       "      <th>361865</th>\n",
       "      <td>22</td>\n",
       "      <td>1.000000</td>\n",
       "      <td>6000.0</td>\n",
       "      <td>766.00</td>\n",
       "      <td>failed</td>\n",
       "      <td>DIRTY COP : A SONG AGAINST POLICE BRUTALITY. d...</td>\n",
       "      <td>-1.535676</td>\n",
       "      <td>-0.873568</td>\n",
       "      <td>1.806803</td>\n",
       "      <td>1.629749</td>\n",
       "      <td>-0.723343</td>\n",
       "      <td>-1.571366</td>\n",
       "      <td>1.493301</td>\n",
       "    </tr>\n",
       "  </tbody>\n",
       "</table>\n",
       "<p>361842 rows × 13 columns</p>\n",
       "</div>"
      ],
      "text/plain": [
       "        backers_count   fx_rate     goal   pledged       state  \\\n",
       "0                 230  1.238278   1999.0   6746.00  successful   \n",
       "1                  34  1.238278    200.0   1079.00  successful   \n",
       "2                 226  1.000000  10000.0  17451.00  successful   \n",
       "3                 655  1.000000  50000.0  51309.83  successful   \n",
       "4                  24  0.618861    200.0    487.00  successful   \n",
       "...               ...       ...      ...       ...         ...   \n",
       "361861              3  1.249716  12000.0     65.00      failed   \n",
       "361862             26  1.249716   3000.0   4882.00  successful   \n",
       "361863             99  1.074469   5000.0  28074.50  successful   \n",
       "361864             10  0.738828   1500.0   1500.00  successful   \n",
       "361865             22  1.000000   6000.0    766.00      failed   \n",
       "\n",
       "                                                sentences         t         u  \\\n",
       "0       Cisco CCNA and CCNA Security for the Real Worl... -3.027842 -2.188033   \n",
       "1       Strong File Encryption Tool. strong-file-encry...  0.230554 -2.119461   \n",
       "2       YaCyPi - Turnkey Raspberry Pi based Internet S... -1.172962 -2.981460   \n",
       "3       Everydisk – Easily access all your computers, ... -3.020664 -3.421177   \n",
       "4       Traccar Client for iOS. traccar-client-for-ios... -0.217545 -3.884567   \n",
       "...                                                   ...       ...       ...   \n",
       "361861  Treaty Pie Dessert Extraordinaire. treaty-pie-... -2.987972 -0.081058   \n",
       "361862  Flights of Fancy - A trio of brand new print e... -0.087660 -1.167448   \n",
       "361863  Transform Your Workspace with ERGOZ™. ergoztm-... -2.264019 -1.960554   \n",
       "361864  GamerFix.ca. gamerfixca. Video gaming, Movies ... -2.559416 -1.195013   \n",
       "361865  DIRTY COP : A SONG AGAINST POLICE BRUTALITY. d... -1.535676 -0.873568   \n",
       "\n",
       "               v         w         x         y         z  \n",
       "0       1.159999  1.918514  0.399868 -1.565474  1.382393  \n",
       "1      -0.407646  2.752960  0.214896  0.662422  1.973701  \n",
       "2      -0.562862  2.517519  0.315752 -1.033590  2.172634  \n",
       "3       1.209325  3.813275  0.943118 -0.765127  1.347683  \n",
       "4      -1.775199  3.456568  2.533460 -0.172614  1.890694  \n",
       "...          ...       ...       ...       ...       ...  \n",
       "361861  2.585926  1.330560  0.773816 -2.064120  0.943447  \n",
       "361862  3.360322  1.712534 -1.746631 -3.416441  1.047190  \n",
       "361863  1.202153  4.105859  0.617760 -0.002033  0.313317  \n",
       "361864  1.562588  1.935960  0.297486 -1.750213  1.632974  \n",
       "361865  1.806803  1.629749 -0.723343 -1.571366  1.493301  \n",
       "\n",
       "[361842 rows x 13 columns]"
      ]
     },
     "execution_count": 92,
     "metadata": {},
     "output_type": "execute_result"
    }
   ],
   "source": [
    "df_w_sentences"
   ]
  },
  {
   "cell_type": "code",
   "execution_count": 93,
   "id": "495b76a9-d57b-4679-a704-bb487d4033bb",
   "metadata": {
    "tags": []
   },
   "outputs": [],
   "source": [
    "df_w_sentences['goal_usd'] = df_w_sentences['goal'] * df_w_sentences['fx_rate']"
   ]
  },
  {
   "cell_type": "code",
   "execution_count": 94,
   "id": "bc41969a-82cd-40c0-ac7a-f80ba4bca17b",
   "metadata": {
    "tags": []
   },
   "outputs": [],
   "source": [
    "df_w_sentences['pledged_usd'] = df_w_sentences['pledged'] * df_w_sentences['fx_rate']"
   ]
  },
  {
   "cell_type": "code",
   "execution_count": 95,
   "id": "2a3ab575-8c42-409c-a772-ead7c5e94853",
   "metadata": {
    "tags": []
   },
   "outputs": [],
   "source": [
    "df_cluster = df_w_sentences[['state','backers_count', 'goal_usd', 'pledged_usd','t', 'u', 'v', 'w', 'x', 'y', 'z']]"
   ]
  },
  {
   "cell_type": "code",
   "execution_count": 99,
   "id": "cf104327-3da1-419e-92c8-a867fb1d2260",
   "metadata": {
    "tags": []
   },
   "outputs": [
    {
     "data": {
      "text/plain": [
       "{'canceled',\n",
       " 'failed',\n",
       " 'live',\n",
       " 'started',\n",
       " 'submitted',\n",
       " 'successful',\n",
       " 'suspended'}"
      ]
     },
     "execution_count": 99,
     "metadata": {},
     "output_type": "execute_result"
    }
   ],
   "source": [
    "set(df_cluster['state'])"
   ]
  },
  {
   "cell_type": "code",
   "execution_count": 104,
   "id": "c98fc133-7130-4fdd-8f03-14ce1e7bd48e",
   "metadata": {
    "tags": []
   },
   "outputs": [],
   "source": [
    "def map_state_to_number(state_string):\n",
    "    lookup = {\"failed\": -3.0,\n",
    "              \"canceled\": -2.0,\n",
    "              \"suspended\" : -1.0,\n",
    "              \"submitted\" : 0.0,\n",
    "              \"started\" : 1.0,\n",
    "              \"live\" : 2.0,\n",
    "              \"successful\" : 3.0};\n",
    "    try:\n",
    "        value = lookup[state_string];\n",
    "    except:\n",
    "        value = np.nan;\n",
    "        \n",
    "    return value;"
   ]
  },
  {
   "cell_type": "code",
   "execution_count": 101,
   "id": "cc891802-4b1c-4dad-9de0-d02028d48397",
   "metadata": {
    "tags": []
   },
   "outputs": [],
   "source": [
    "df_cluster_copy = df_cluster.copy()"
   ]
  },
  {
   "cell_type": "code",
   "execution_count": 102,
   "id": "21cedd0b-c86f-4cdb-af32-4c6acbc9cbbd",
   "metadata": {
    "tags": []
   },
   "outputs": [
    {
     "data": {
      "text/plain": [
       "Index(['state', 'backers_count', 'goal_usd', 'pledged_usd', 't', 'u', 'v', 'w',\n",
       "       'x', 'y', 'z'],\n",
       "      dtype='object')"
      ]
     },
     "execution_count": 102,
     "metadata": {},
     "output_type": "execute_result"
    }
   ],
   "source": [
    "df_cluster_copy.columns"
   ]
  },
  {
   "cell_type": "code",
   "execution_count": null,
   "id": "c666a089-6b43-4be7-96d9-02b78ba86bba",
   "metadata": {},
   "outputs": [],
   "source": [
    "df_cluster_copy['state'] = df_cluster['state'].apply(lambda x : map_state_to_number(x))"
   ]
  },
  {
   "cell_type": "code",
   "execution_count": 110,
   "id": "baf79d3f-fcce-4edc-a547-30c477f813cd",
   "metadata": {
    "tags": []
   },
   "outputs": [
    {
     "data": {
      "text/plain": [
       "array([[<Axes: title={'center': 'state'}>]], dtype=object)"
      ]
     },
     "execution_count": 110,
     "metadata": {},
     "output_type": "execute_result"
    },
    {
     "data": {
      "image/png": "[encoded data removed]",
      "text/plain": [
       "<Figure size 640x480 with 1 Axes>"
      ]
     },
     "metadata": {},
     "output_type": "display_data"
    }
   ],
   "source": [
    "df_cluster_copy.hist(column = 'state', grid = True)"
   ]
  },
  {
   "cell_type": "code",
   "execution_count": 113,
   "id": "298a42c1-9730-4d7b-ac48-03fd9d743a4f",
   "metadata": {
    "tags": []
   },
   "outputs": [],
   "source": [
    "df_cluster_copy.to_csv(\"./kickstarter_numerical_clustering_dataset.csv\", index = False)"
   ]
  },
  {
   "cell_type": "code",
   "execution_count": null,
   "id": "1cc55669-706c-4bde-bb79-cd4aeb40705f",
   "metadata": {},
   "outputs": [],
   "source": []
  }
 ],
 "metadata": {
  "kernelspec": {
   "display_name": "Python 3 (ipykernel)",
   "language": "python",
   "name": "python3"
  },
  "language_info": {
   "codemirror_mode": {
    "name": "ipython",
    "version": 3
   },
   "file_extension": ".py",
   "mimetype": "text/x-python",
   "name": "python",
   "nbconvert_exporter": "python",
   "pygments_lexer": "ipython3",
   "version": "3.11.5"
  }
 },
 "nbformat": 4,
 "nbformat_minor": 5
}
