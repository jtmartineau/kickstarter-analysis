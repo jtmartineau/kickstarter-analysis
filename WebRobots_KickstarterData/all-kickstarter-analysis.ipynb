{
 "cells": [
  {
   "cell_type": "code",
   "execution_count": 1,
   "id": "8f953b90-f25f-4f11-8c77-5053c2cfa8d8",
   "metadata": {
    "tags": []
   },
   "outputs": [],
   "source": [
    "import requests\n",
    "import random\n",
    "from bs4 import BeautifulSoup\n",
    "from os import listdir\n",
    "from os.path import isfile, join\n",
    "import pandas as pd\n",
    "import ast\n",
    "from sklearn.linear_model import LinearRegression\n",
    "from sklearn.linear_model import LogisticRegression\n",
    "from sklearn.linear_model import Lasso\n",
    "from sklearn.linear_model import ElasticNet\n",
    "from sklearn.linear_model import Ridge\n",
    "from sklearn.preprocessing import StandardScaler\n",
    "from sklearn.model_selection import train_test_split\n",
    "from sklearn.decomposition import PCA\n",
    "import plotly.express as px\n",
    "import numpy as np\n",
    "import scipy"
   ]
  },
  {
   "cell_type": "code",
   "execution_count": 2,
   "id": "f9173f8a-e1ee-433a-a89c-7322ae37951d",
   "metadata": {
    "tags": []
   },
   "outputs": [],
   "source": [
    "from gensim.models import Word2Vec\n",
    "from gensim.utils import simple_preprocess"
   ]
  },
  {
   "cell_type": "code",
   "execution_count": 3,
   "id": "e9f59997-c331-4137-8888-fa87fe3b373a",
   "metadata": {
    "tags": []
   },
   "outputs": [],
   "source": [
    "pd.set_option('display.max_columns', 1000)"
   ]
  },
  {
   "cell_type": "code",
   "execution_count": 4,
   "id": "d13fa6d7-ae0c-4ca9-b9a8-c0534c1ba41f",
   "metadata": {},
   "outputs": [],
   "source": [
    "month_folders = ['April2023', 'August2023', 'February2023', 'January2022',\n",
    "                 'January2023', 'July2023', 'June2023', 'March2023', 'May2023', 'September2023'];"
   ]
  },
  {
   "cell_type": "code",
   "execution_count": 5,
   "id": "1d455b66-1f0e-41c1-a188-e07cbc239b13",
   "metadata": {
    "tags": []
   },
   "outputs": [],
   "source": [
    "raw_df = pd.DataFrame();\n",
    "\n",
    "current_paths = [];\n",
    "for month in month_folders:\n",
    "    current_paths = current_paths + [join(month, x) for x in listdir(month) if '.csv' in x]\n",
    "\n",
    "for current_path in current_paths:\n",
    "    df_temp = pd.read_csv(current_path);\n",
    "    raw_df = pd.concat([raw_df, df_temp])\n",
    "\n",
    "raw_df = raw_df.reset_index(drop = True)"
   ]
  },
  {
   "cell_type": "code",
   "execution_count": 6,
   "id": "e053ab0b-8597-4c28-9fc8-e0898bfb34c6",
   "metadata": {},
   "outputs": [],
   "source": [
    "raw_df.head();"
   ]
  },
  {
   "cell_type": "code",
   "execution_count": 7,
   "id": "7eebebeb-8b47-42fd-92e6-f135c26a56f9",
   "metadata": {
    "tags": []
   },
   "outputs": [],
   "source": [
    "df_selected = raw_df[['backers_count', 'blurb',\n",
    "                      'category', 'country', 'creator',\n",
    "                      'currency', 'currency_trailing_code',\n",
    "                      'disable_communication', 'fx_rate',\n",
    "                      'goal', 'is_starrable', 'name',\n",
    "                      'pledged', 'slug', 'spotlight',\n",
    "                      'staff_pick', 'state', 'usd_exchange_rate',\n",
    "                      'usd_pledged']]"
   ]
  },
  {
   "cell_type": "code",
   "execution_count": 8,
   "id": "5061ea15-0746-4da1-b049-b8cfa901a865",
   "metadata": {
    "tags": []
   },
   "outputs": [
    {
     "name": "stderr",
     "output_type": "stream",
     "text": [
      "/tmp/ipykernel_501369/2773143276.py:1: SettingWithCopyWarning: \n",
      "A value is trying to be set on a copy of a slice from a DataFrame.\n",
      "Try using .loc[row_indexer,col_indexer] = value instead\n",
      "\n",
      "See the caveats in the documentation: https://pandas.pydata.org/pandas-docs/stable/user_guide/indexing.html#returning-a-view-versus-a-copy\n",
      "  df_selected['category'] = (df_selected.copy()).apply(lambda x : ast.literal_eval(x['category'])['name'], axis = 1)\n"
     ]
    }
   ],
   "source": [
    "df_selected['category'] = (df_selected.copy()).apply(lambda x : ast.literal_eval(x['category'])['name'], axis = 1)"
   ]
  },
  {
   "cell_type": "code",
   "execution_count": 9,
   "id": "a60f40e2-ff2d-4f81-831e-2c4f0f4d986e",
   "metadata": {
    "tags": []
   },
   "outputs": [],
   "source": [
    "corpus = [];\n",
    "corpus_index = []\n",
    "\n",
    "for index, row in df_selected.iterrows():\n",
    "    try:\n",
    "        sentence = [row['name'] + '. ' + row['slug'] + '. ' + row['blurb']];\n",
    "        corpus = corpus + sentence;\n",
    "        corpus_index.append(index);\n",
    "    \n",
    "    except:\n",
    "        continue;"
   ]
  },
  {
   "cell_type": "code",
   "execution_count": 10,
   "id": "c5e2befa-eed6-46bc-9dd6-edf0dfbc65df",
   "metadata": {},
   "outputs": [],
   "source": [
    "df_corpus = pd.DataFrame({'sentences' : corpus}, index = corpus_index)"
   ]
  },
  {
   "cell_type": "code",
   "execution_count": 11,
   "id": "c1adeace-b4b3-4e54-b65b-06eb27d6e638",
   "metadata": {
    "tags": []
   },
   "outputs": [],
   "source": [
    "corpus_preprocessed = [simple_preprocess(i) for i in corpus]"
   ]
  },
  {
   "cell_type": "code",
   "execution_count": 12,
   "id": "3a203539-549e-4251-bb9a-d065c490f146",
   "metadata": {
    "tags": []
   },
   "outputs": [],
   "source": [
    "model = Word2Vec(corpus_preprocessed, min_count = 1, vector_size = 7)"
   ]
  },
  {
   "cell_type": "code",
   "execution_count": 13,
   "id": "f3159991-4f4c-4b19-ab3e-333df67314e1",
   "metadata": {
    "tags": []
   },
   "outputs": [],
   "source": [
    "vocabulary = []\n",
    "for index, word in enumerate(model.wv.index_to_key):\n",
    "    vocabulary = vocabulary + [{'t' : list(model.wv[word])[0],\n",
    "                                'u' : list(model.wv[word])[1],\n",
    "                                'v' : list(model.wv[word])[2], \n",
    "                                'w' : list(model.wv[word])[3], \n",
    "                                'x' : list(model.wv[word])[4],\n",
    "                                'y' : list(model.wv[word])[5],\n",
    "                                'z' : list(model.wv[word])[6],\n",
    "                                'word' : word}]"
   ]
  },
  {
   "cell_type": "code",
   "execution_count": 14,
   "id": "a44e2e06-e06a-4ec9-9cf2-8c0ed9bf8528",
   "metadata": {},
   "outputs": [],
   "source": [
    "df_high_dimension_vocab = pd.DataFrame(vocabulary).set_index('word', drop = True)"
   ]
  },
  {
   "cell_type": "code",
   "execution_count": 15,
   "id": "a9bca165-236f-4d3b-878c-297242b269f1",
   "metadata": {
    "tags": []
   },
   "outputs": [],
   "source": [
    "wv_reduced = PCA(n_components = 2)\n",
    "wv_reduced.fit(df_high_dimension_vocab[['t', 'u', 'v', 'w', 'x', 'y', 'z']])\n",
    "reduced_vocab_vectors = wv_reduced.transform(df_high_dimension_vocab[['t', 'u', 'v', 'w', 'x', 'y', 'z']])"
   ]
  },
  {
   "cell_type": "code",
   "execution_count": 17,
   "id": "c861612e-b605-4101-aa90-f20459c2913a",
   "metadata": {
    "tags": []
   },
   "outputs": [],
   "source": [
    "df_reduced_vocab = pd.DataFrame({'x': list(reduced_vocab_vectors[:, 0]), \n",
    "                                 'y': list(reduced_vocab_vectors[:, 1]),\n",
    "                                 'word' : df_high_dimension_vocab.index})"
   ]
  },
  {
   "cell_type": "code",
   "execution_count": 19,
   "id": "d2f8da67-f0c0-48a3-a1e5-eb99eadf0f77",
   "metadata": {
    "tags": []
   },
   "outputs": [
    {
     "data": {
      "text/plain": [
       "<Axes: xlabel='x', ylabel='y'>"
      ]
     },
     "execution_count": 19,
     "metadata": {},
     "output_type": "execute_result"
    },
    {
     "data": {
      "image/png": "[encoded data removed]",
      "text/plain": [
       "<Figure size 500x500 with 1 Axes>"
      ]
     },
     "metadata": {},
     "output_type": "display_data"
    }
   ],
   "source": [
    "df_reduced_vocab.plot.scatter(x = 'x', y = 'y', s = 1, marker = 'x', figsize = (5, 5), color = [[0.5, 0.0, 0.0]])"
   ]
  },
  {
   "cell_type": "code",
   "execution_count": 20,
   "id": "532cf978-388d-4e7b-bcad-e93f8ed3c338",
   "metadata": {
    "tags": []
   },
   "outputs": [],
   "source": [
    "df_w_sentences = pd.concat([df_selected[['backers_count',\n",
    "                                         'category',\n",
    "                                         'fx_rate',\n",
    "                                         'goal',\n",
    "                                         'pledged',\n",
    "                                         'state']].loc[df_corpus.index],df_corpus], axis = 1)"
   ]
  },
  {
   "cell_type": "code",
   "execution_count": 21,
   "id": "45c5c3ce-4575-4b11-a04d-39dc97e9a409",
   "metadata": {
    "tags": []
   },
   "outputs": [],
   "source": [
    "df_w_sentences[['t', 'u', 'v', 'w', 'x', 'y', 'z']] = np.nan"
   ]
  },
  {
   "cell_type": "code",
   "execution_count": 22,
   "id": "8fc015da-449d-4f9d-8a7d-0dde21ff3ba5",
   "metadata": {
    "tags": []
   },
   "outputs": [
    {
     "data": {
      "text/html": [
       "<div>\n",
       "<style scoped>\n",
       "    .dataframe tbody tr th:only-of-type {\n",
       "        vertical-align: middle;\n",
       "    }\n",
       "\n",
       "    .dataframe tbody tr th {\n",
       "        vertical-align: top;\n",
       "    }\n",
       "\n",
       "    .dataframe thead th {\n",
       "        text-align: right;\n",
       "    }\n",
       "</style>\n",
       "<table border=\"1\" class=\"dataframe\">\n",
       "  <thead>\n",
       "    <tr style=\"text-align: right;\">\n",
       "      <th></th>\n",
       "      <th>backers_count</th>\n",
       "      <th>category</th>\n",
       "      <th>fx_rate</th>\n",
       "      <th>goal</th>\n",
       "      <th>pledged</th>\n",
       "      <th>state</th>\n",
       "      <th>sentences</th>\n",
       "      <th>t</th>\n",
       "      <th>u</th>\n",
       "      <th>v</th>\n",
       "      <th>w</th>\n",
       "      <th>x</th>\n",
       "      <th>y</th>\n",
       "      <th>z</th>\n",
       "    </tr>\n",
       "  </thead>\n",
       "  <tbody>\n",
       "    <tr>\n",
       "      <th>0</th>\n",
       "      <td>230</td>\n",
       "      <td>Software</td>\n",
       "      <td>1.238278</td>\n",
       "      <td>1999.0</td>\n",
       "      <td>6746.00</td>\n",
       "      <td>successful</td>\n",
       "      <td>Cisco CCNA and CCNA Security for the Real Worl...</td>\n",
       "      <td>NaN</td>\n",
       "      <td>NaN</td>\n",
       "      <td>NaN</td>\n",
       "      <td>NaN</td>\n",
       "      <td>NaN</td>\n",
       "      <td>NaN</td>\n",
       "      <td>NaN</td>\n",
       "    </tr>\n",
       "    <tr>\n",
       "      <th>1</th>\n",
       "      <td>34</td>\n",
       "      <td>Software</td>\n",
       "      <td>1.238278</td>\n",
       "      <td>200.0</td>\n",
       "      <td>1079.00</td>\n",
       "      <td>successful</td>\n",
       "      <td>Strong File Encryption Tool. strong-file-encry...</td>\n",
       "      <td>NaN</td>\n",
       "      <td>NaN</td>\n",
       "      <td>NaN</td>\n",
       "      <td>NaN</td>\n",
       "      <td>NaN</td>\n",
       "      <td>NaN</td>\n",
       "      <td>NaN</td>\n",
       "    </tr>\n",
       "    <tr>\n",
       "      <th>2</th>\n",
       "      <td>226</td>\n",
       "      <td>Software</td>\n",
       "      <td>1.000000</td>\n",
       "      <td>10000.0</td>\n",
       "      <td>17451.00</td>\n",
       "      <td>successful</td>\n",
       "      <td>YaCyPi - Turnkey Raspberry Pi based Internet S...</td>\n",
       "      <td>NaN</td>\n",
       "      <td>NaN</td>\n",
       "      <td>NaN</td>\n",
       "      <td>NaN</td>\n",
       "      <td>NaN</td>\n",
       "      <td>NaN</td>\n",
       "      <td>NaN</td>\n",
       "    </tr>\n",
       "    <tr>\n",
       "      <th>3</th>\n",
       "      <td>655</td>\n",
       "      <td>Software</td>\n",
       "      <td>1.000000</td>\n",
       "      <td>50000.0</td>\n",
       "      <td>51309.83</td>\n",
       "      <td>successful</td>\n",
       "      <td>Everydisk – Easily access all your computers, ...</td>\n",
       "      <td>NaN</td>\n",
       "      <td>NaN</td>\n",
       "      <td>NaN</td>\n",
       "      <td>NaN</td>\n",
       "      <td>NaN</td>\n",
       "      <td>NaN</td>\n",
       "      <td>NaN</td>\n",
       "    </tr>\n",
       "    <tr>\n",
       "      <th>4</th>\n",
       "      <td>24</td>\n",
       "      <td>Software</td>\n",
       "      <td>0.618861</td>\n",
       "      <td>200.0</td>\n",
       "      <td>487.00</td>\n",
       "      <td>successful</td>\n",
       "      <td>Traccar Client for iOS. traccar-client-for-ios...</td>\n",
       "      <td>NaN</td>\n",
       "      <td>NaN</td>\n",
       "      <td>NaN</td>\n",
       "      <td>NaN</td>\n",
       "      <td>NaN</td>\n",
       "      <td>NaN</td>\n",
       "      <td>NaN</td>\n",
       "    </tr>\n",
       "    <tr>\n",
       "      <th>...</th>\n",
       "      <td>...</td>\n",
       "      <td>...</td>\n",
       "      <td>...</td>\n",
       "      <td>...</td>\n",
       "      <td>...</td>\n",
       "      <td>...</td>\n",
       "      <td>...</td>\n",
       "      <td>...</td>\n",
       "      <td>...</td>\n",
       "      <td>...</td>\n",
       "      <td>...</td>\n",
       "      <td>...</td>\n",
       "      <td>...</td>\n",
       "      <td>...</td>\n",
       "    </tr>\n",
       "    <tr>\n",
       "      <th>361861</th>\n",
       "      <td>3</td>\n",
       "      <td>Restaurants</td>\n",
       "      <td>1.249716</td>\n",
       "      <td>12000.0</td>\n",
       "      <td>65.00</td>\n",
       "      <td>failed</td>\n",
       "      <td>Treaty Pie Dessert Extraordinaire. treaty-pie-...</td>\n",
       "      <td>NaN</td>\n",
       "      <td>NaN</td>\n",
       "      <td>NaN</td>\n",
       "      <td>NaN</td>\n",
       "      <td>NaN</td>\n",
       "      <td>NaN</td>\n",
       "      <td>NaN</td>\n",
       "    </tr>\n",
       "    <tr>\n",
       "      <th>361862</th>\n",
       "      <td>26</td>\n",
       "      <td>Illustration</td>\n",
       "      <td>1.249716</td>\n",
       "      <td>3000.0</td>\n",
       "      <td>4882.00</td>\n",
       "      <td>successful</td>\n",
       "      <td>Flights of Fancy - A trio of brand new print e...</td>\n",
       "      <td>NaN</td>\n",
       "      <td>NaN</td>\n",
       "      <td>NaN</td>\n",
       "      <td>NaN</td>\n",
       "      <td>NaN</td>\n",
       "      <td>NaN</td>\n",
       "      <td>NaN</td>\n",
       "    </tr>\n",
       "    <tr>\n",
       "      <th>361863</th>\n",
       "      <td>99</td>\n",
       "      <td>Product Design</td>\n",
       "      <td>1.074469</td>\n",
       "      <td>5000.0</td>\n",
       "      <td>28074.50</td>\n",
       "      <td>successful</td>\n",
       "      <td>Transform Your Workspace with ERGOZ™. ergoztm-...</td>\n",
       "      <td>NaN</td>\n",
       "      <td>NaN</td>\n",
       "      <td>NaN</td>\n",
       "      <td>NaN</td>\n",
       "      <td>NaN</td>\n",
       "      <td>NaN</td>\n",
       "      <td>NaN</td>\n",
       "    </tr>\n",
       "    <tr>\n",
       "      <th>361864</th>\n",
       "      <td>10</td>\n",
       "      <td>Web</td>\n",
       "      <td>0.738828</td>\n",
       "      <td>1500.0</td>\n",
       "      <td>1500.00</td>\n",
       "      <td>successful</td>\n",
       "      <td>GamerFix.ca. gamerfixca. Video gaming, Movies ...</td>\n",
       "      <td>NaN</td>\n",
       "      <td>NaN</td>\n",
       "      <td>NaN</td>\n",
       "      <td>NaN</td>\n",
       "      <td>NaN</td>\n",
       "      <td>NaN</td>\n",
       "      <td>NaN</td>\n",
       "    </tr>\n",
       "    <tr>\n",
       "      <th>361865</th>\n",
       "      <td>22</td>\n",
       "      <td>World Music</td>\n",
       "      <td>1.000000</td>\n",
       "      <td>6000.0</td>\n",
       "      <td>766.00</td>\n",
       "      <td>failed</td>\n",
       "      <td>DIRTY COP : A SONG AGAINST POLICE BRUTALITY. d...</td>\n",
       "      <td>NaN</td>\n",
       "      <td>NaN</td>\n",
       "      <td>NaN</td>\n",
       "      <td>NaN</td>\n",
       "      <td>NaN</td>\n",
       "      <td>NaN</td>\n",
       "      <td>NaN</td>\n",
       "    </tr>\n",
       "  </tbody>\n",
       "</table>\n",
       "<p>361842 rows × 14 columns</p>\n",
       "</div>"
      ],
      "text/plain": [
       "        backers_count        category   fx_rate     goal   pledged  \\\n",
       "0                 230        Software  1.238278   1999.0   6746.00   \n",
       "1                  34        Software  1.238278    200.0   1079.00   \n",
       "2                 226        Software  1.000000  10000.0  17451.00   \n",
       "3                 655        Software  1.000000  50000.0  51309.83   \n",
       "4                  24        Software  0.618861    200.0    487.00   \n",
       "...               ...             ...       ...      ...       ...   \n",
       "361861              3     Restaurants  1.249716  12000.0     65.00   \n",
       "361862             26    Illustration  1.249716   3000.0   4882.00   \n",
       "361863             99  Product Design  1.074469   5000.0  28074.50   \n",
       "361864             10             Web  0.738828   1500.0   1500.00   \n",
       "361865             22     World Music  1.000000   6000.0    766.00   \n",
       "\n",
       "             state                                          sentences   t   u  \\\n",
       "0       successful  Cisco CCNA and CCNA Security for the Real Worl... NaN NaN   \n",
       "1       successful  Strong File Encryption Tool. strong-file-encry... NaN NaN   \n",
       "2       successful  YaCyPi - Turnkey Raspberry Pi based Internet S... NaN NaN   \n",
       "3       successful  Everydisk – Easily access all your computers, ... NaN NaN   \n",
       "4       successful  Traccar Client for iOS. traccar-client-for-ios... NaN NaN   \n",
       "...            ...                                                ...  ..  ..   \n",
       "361861      failed  Treaty Pie Dessert Extraordinaire. treaty-pie-... NaN NaN   \n",
       "361862  successful  Flights of Fancy - A trio of brand new print e... NaN NaN   \n",
       "361863  successful  Transform Your Workspace with ERGOZ™. ergoztm-... NaN NaN   \n",
       "361864  successful  GamerFix.ca. gamerfixca. Video gaming, Movies ... NaN NaN   \n",
       "361865      failed  DIRTY COP : A SONG AGAINST POLICE BRUTALITY. d... NaN NaN   \n",
       "\n",
       "         v   w   x   y   z  \n",
       "0      NaN NaN NaN NaN NaN  \n",
       "1      NaN NaN NaN NaN NaN  \n",
       "2      NaN NaN NaN NaN NaN  \n",
       "3      NaN NaN NaN NaN NaN  \n",
       "4      NaN NaN NaN NaN NaN  \n",
       "...     ..  ..  ..  ..  ..  \n",
       "361861 NaN NaN NaN NaN NaN  \n",
       "361862 NaN NaN NaN NaN NaN  \n",
       "361863 NaN NaN NaN NaN NaN  \n",
       "361864 NaN NaN NaN NaN NaN  \n",
       "361865 NaN NaN NaN NaN NaN  \n",
       "\n",
       "[361842 rows x 14 columns]"
      ]
     },
     "execution_count": 22,
     "metadata": {},
     "output_type": "execute_result"
    }
   ],
   "source": [
    "df_w_sentences"
   ]
  },
  {
   "cell_type": "code",
   "execution_count": 23,
   "id": "421fedf3-33ef-4413-adda-2e5582b63644",
   "metadata": {
    "tags": []
   },
   "outputs": [],
   "source": [
    "def sentence_median(sentence_string):\n",
    "    processed_sentence = simple_preprocess(sentence_string);\n",
    "    sentence_list = [];\n",
    "    sentence_median = 7*[np.nan];\n",
    "    for word in processed_sentence:\n",
    "        try:      \n",
    "            sentence_list.append(df_high_dimension_vocab.loc[word])\n",
    "        except:\n",
    "            break;\n",
    "            \n",
    "    sentence_array = np.array(sentence_list)\n",
    "    return np.median(sentence_array, axis = 0)"
   ]
  },
  {
   "cell_type": "code",
   "execution_count": 24,
   "id": "9ea0dde1-2eaa-4c73-80b5-1c53ea596781",
   "metadata": {
    "tags": []
   },
   "outputs": [
    {
     "name": "stderr",
     "output_type": "stream",
     "text": [
      "/home/jason/anaconda3/lib/python3.11/site-packages/numpy/core/fromnumeric.py:3432: RuntimeWarning: Mean of empty slice.\n",
      "  return _methods._mean(a, axis=axis, dtype=dtype,\n",
      "/home/jason/anaconda3/lib/python3.11/site-packages/numpy/core/_methods.py:190: RuntimeWarning: invalid value encountered in double_scalars\n",
      "  ret = ret.dtype.type(ret / rcount)\n"
     ]
    }
   ],
   "source": [
    "error_index = []\n",
    "for index, row in df_w_sentences.iterrows():\n",
    "    try:\n",
    "        df_w_sentences.loc[index, ['t', 'u', 'v', 'w', 'x', 'y', 'z']] = sentence_median(row['sentences'])\n",
    "    except:\n",
    "        error_index.append(index)"
   ]
  },
  {
   "cell_type": "code",
   "execution_count": 25,
   "id": "a46a9691-4bb2-48a6-9de4-4430e687684c",
   "metadata": {
    "tags": []
   },
   "outputs": [
    {
     "data": {
      "text/html": [
       "<div>\n",
       "<style scoped>\n",
       "    .dataframe tbody tr th:only-of-type {\n",
       "        vertical-align: middle;\n",
       "    }\n",
       "\n",
       "    .dataframe tbody tr th {\n",
       "        vertical-align: top;\n",
       "    }\n",
       "\n",
       "    .dataframe thead th {\n",
       "        text-align: right;\n",
       "    }\n",
       "</style>\n",
       "<table border=\"1\" class=\"dataframe\">\n",
       "  <thead>\n",
       "    <tr style=\"text-align: right;\">\n",
       "      <th></th>\n",
       "      <th>backers_count</th>\n",
       "      <th>category</th>\n",
       "      <th>fx_rate</th>\n",
       "      <th>goal</th>\n",
       "      <th>pledged</th>\n",
       "      <th>state</th>\n",
       "      <th>sentences</th>\n",
       "      <th>t</th>\n",
       "      <th>u</th>\n",
       "      <th>v</th>\n",
       "      <th>w</th>\n",
       "      <th>x</th>\n",
       "      <th>y</th>\n",
       "      <th>z</th>\n",
       "    </tr>\n",
       "  </thead>\n",
       "  <tbody>\n",
       "    <tr>\n",
       "      <th>0</th>\n",
       "      <td>230</td>\n",
       "      <td>Software</td>\n",
       "      <td>1.238278</td>\n",
       "      <td>1999.0</td>\n",
       "      <td>6746.00</td>\n",
       "      <td>successful</td>\n",
       "      <td>Cisco CCNA and CCNA Security for the Real Worl...</td>\n",
       "      <td>-0.614744</td>\n",
       "      <td>-1.362357</td>\n",
       "      <td>1.256272</td>\n",
       "      <td>2.776866</td>\n",
       "      <td>0.758209</td>\n",
       "      <td>-3.470245</td>\n",
       "      <td>0.106088</td>\n",
       "    </tr>\n",
       "    <tr>\n",
       "      <th>1</th>\n",
       "      <td>34</td>\n",
       "      <td>Software</td>\n",
       "      <td>1.238278</td>\n",
       "      <td>200.0</td>\n",
       "      <td>1079.00</td>\n",
       "      <td>successful</td>\n",
       "      <td>Strong File Encryption Tool. strong-file-encry...</td>\n",
       "      <td>0.849055</td>\n",
       "      <td>-2.193782</td>\n",
       "      <td>-0.047758</td>\n",
       "      <td>3.997278</td>\n",
       "      <td>0.735483</td>\n",
       "      <td>-0.739189</td>\n",
       "      <td>1.670300</td>\n",
       "    </tr>\n",
       "    <tr>\n",
       "      <th>2</th>\n",
       "      <td>226</td>\n",
       "      <td>Software</td>\n",
       "      <td>1.000000</td>\n",
       "      <td>10000.0</td>\n",
       "      <td>17451.00</td>\n",
       "      <td>successful</td>\n",
       "      <td>YaCyPi - Turnkey Raspberry Pi based Internet S...</td>\n",
       "      <td>0.089434</td>\n",
       "      <td>-2.562426</td>\n",
       "      <td>-0.719220</td>\n",
       "      <td>3.136730</td>\n",
       "      <td>0.998678</td>\n",
       "      <td>-2.530694</td>\n",
       "      <td>1.012942</td>\n",
       "    </tr>\n",
       "    <tr>\n",
       "      <th>3</th>\n",
       "      <td>655</td>\n",
       "      <td>Software</td>\n",
       "      <td>1.000000</td>\n",
       "      <td>50000.0</td>\n",
       "      <td>51309.83</td>\n",
       "      <td>successful</td>\n",
       "      <td>Everydisk – Easily access all your computers, ...</td>\n",
       "      <td>-1.801973</td>\n",
       "      <td>-3.125506</td>\n",
       "      <td>1.132509</td>\n",
       "      <td>4.232285</td>\n",
       "      <td>1.994624</td>\n",
       "      <td>-2.952389</td>\n",
       "      <td>-0.026714</td>\n",
       "    </tr>\n",
       "    <tr>\n",
       "      <th>4</th>\n",
       "      <td>24</td>\n",
       "      <td>Software</td>\n",
       "      <td>0.618861</td>\n",
       "      <td>200.0</td>\n",
       "      <td>487.00</td>\n",
       "      <td>successful</td>\n",
       "      <td>Traccar Client for iOS. traccar-client-for-ios...</td>\n",
       "      <td>-0.002953</td>\n",
       "      <td>-3.250757</td>\n",
       "      <td>-2.425439</td>\n",
       "      <td>4.620069</td>\n",
       "      <td>2.635032</td>\n",
       "      <td>-1.965134</td>\n",
       "      <td>1.229133</td>\n",
       "    </tr>\n",
       "    <tr>\n",
       "      <th>...</th>\n",
       "      <td>...</td>\n",
       "      <td>...</td>\n",
       "      <td>...</td>\n",
       "      <td>...</td>\n",
       "      <td>...</td>\n",
       "      <td>...</td>\n",
       "      <td>...</td>\n",
       "      <td>...</td>\n",
       "      <td>...</td>\n",
       "      <td>...</td>\n",
       "      <td>...</td>\n",
       "      <td>...</td>\n",
       "      <td>...</td>\n",
       "      <td>...</td>\n",
       "    </tr>\n",
       "    <tr>\n",
       "      <th>361861</th>\n",
       "      <td>3</td>\n",
       "      <td>Restaurants</td>\n",
       "      <td>1.249716</td>\n",
       "      <td>12000.0</td>\n",
       "      <td>65.00</td>\n",
       "      <td>failed</td>\n",
       "      <td>Treaty Pie Dessert Extraordinaire. treaty-pie-...</td>\n",
       "      <td>-0.829773</td>\n",
       "      <td>-0.088808</td>\n",
       "      <td>3.991904</td>\n",
       "      <td>1.475041</td>\n",
       "      <td>0.555627</td>\n",
       "      <td>-3.672516</td>\n",
       "      <td>0.002532</td>\n",
       "    </tr>\n",
       "    <tr>\n",
       "      <th>361862</th>\n",
       "      <td>26</td>\n",
       "      <td>Illustration</td>\n",
       "      <td>1.249716</td>\n",
       "      <td>3000.0</td>\n",
       "      <td>4882.00</td>\n",
       "      <td>successful</td>\n",
       "      <td>Flights of Fancy - A trio of brand new print e...</td>\n",
       "      <td>-0.295963</td>\n",
       "      <td>-0.263805</td>\n",
       "      <td>3.435319</td>\n",
       "      <td>0.546108</td>\n",
       "      <td>-0.708506</td>\n",
       "      <td>-4.385779</td>\n",
       "      <td>1.318868</td>\n",
       "    </tr>\n",
       "    <tr>\n",
       "      <th>361863</th>\n",
       "      <td>99</td>\n",
       "      <td>Product Design</td>\n",
       "      <td>1.074469</td>\n",
       "      <td>5000.0</td>\n",
       "      <td>28074.50</td>\n",
       "      <td>successful</td>\n",
       "      <td>Transform Your Workspace with ERGOZ™. ergoztm-...</td>\n",
       "      <td>-1.779561</td>\n",
       "      <td>-2.732545</td>\n",
       "      <td>1.280410</td>\n",
       "      <td>3.303506</td>\n",
       "      <td>1.202592</td>\n",
       "      <td>-1.725442</td>\n",
       "      <td>0.196475</td>\n",
       "    </tr>\n",
       "    <tr>\n",
       "      <th>361864</th>\n",
       "      <td>10</td>\n",
       "      <td>Web</td>\n",
       "      <td>0.738828</td>\n",
       "      <td>1500.0</td>\n",
       "      <td>1500.00</td>\n",
       "      <td>successful</td>\n",
       "      <td>GamerFix.ca. gamerfixca. Video gaming, Movies ...</td>\n",
       "      <td>-0.266708</td>\n",
       "      <td>-1.346346</td>\n",
       "      <td>2.256954</td>\n",
       "      <td>2.092475</td>\n",
       "      <td>0.967575</td>\n",
       "      <td>-3.524627</td>\n",
       "      <td>0.404800</td>\n",
       "    </tr>\n",
       "    <tr>\n",
       "      <th>361865</th>\n",
       "      <td>22</td>\n",
       "      <td>World Music</td>\n",
       "      <td>1.000000</td>\n",
       "      <td>6000.0</td>\n",
       "      <td>766.00</td>\n",
       "      <td>failed</td>\n",
       "      <td>DIRTY COP : A SONG AGAINST POLICE BRUTALITY. d...</td>\n",
       "      <td>-1.482167</td>\n",
       "      <td>-0.510542</td>\n",
       "      <td>1.603939</td>\n",
       "      <td>1.751150</td>\n",
       "      <td>-1.416753</td>\n",
       "      <td>-3.470245</td>\n",
       "      <td>0.228115</td>\n",
       "    </tr>\n",
       "  </tbody>\n",
       "</table>\n",
       "<p>361842 rows × 14 columns</p>\n",
       "</div>"
      ],
      "text/plain": [
       "        backers_count        category   fx_rate     goal   pledged  \\\n",
       "0                 230        Software  1.238278   1999.0   6746.00   \n",
       "1                  34        Software  1.238278    200.0   1079.00   \n",
       "2                 226        Software  1.000000  10000.0  17451.00   \n",
       "3                 655        Software  1.000000  50000.0  51309.83   \n",
       "4                  24        Software  0.618861    200.0    487.00   \n",
       "...               ...             ...       ...      ...       ...   \n",
       "361861              3     Restaurants  1.249716  12000.0     65.00   \n",
       "361862             26    Illustration  1.249716   3000.0   4882.00   \n",
       "361863             99  Product Design  1.074469   5000.0  28074.50   \n",
       "361864             10             Web  0.738828   1500.0   1500.00   \n",
       "361865             22     World Music  1.000000   6000.0    766.00   \n",
       "\n",
       "             state                                          sentences  \\\n",
       "0       successful  Cisco CCNA and CCNA Security for the Real Worl...   \n",
       "1       successful  Strong File Encryption Tool. strong-file-encry...   \n",
       "2       successful  YaCyPi - Turnkey Raspberry Pi based Internet S...   \n",
       "3       successful  Everydisk – Easily access all your computers, ...   \n",
       "4       successful  Traccar Client for iOS. traccar-client-for-ios...   \n",
       "...            ...                                                ...   \n",
       "361861      failed  Treaty Pie Dessert Extraordinaire. treaty-pie-...   \n",
       "361862  successful  Flights of Fancy - A trio of brand new print e...   \n",
       "361863  successful  Transform Your Workspace with ERGOZ™. ergoztm-...   \n",
       "361864  successful  GamerFix.ca. gamerfixca. Video gaming, Movies ...   \n",
       "361865      failed  DIRTY COP : A SONG AGAINST POLICE BRUTALITY. d...   \n",
       "\n",
       "               t         u         v         w         x         y         z  \n",
       "0      -0.614744 -1.362357  1.256272  2.776866  0.758209 -3.470245  0.106088  \n",
       "1       0.849055 -2.193782 -0.047758  3.997278  0.735483 -0.739189  1.670300  \n",
       "2       0.089434 -2.562426 -0.719220  3.136730  0.998678 -2.530694  1.012942  \n",
       "3      -1.801973 -3.125506  1.132509  4.232285  1.994624 -2.952389 -0.026714  \n",
       "4      -0.002953 -3.250757 -2.425439  4.620069  2.635032 -1.965134  1.229133  \n",
       "...          ...       ...       ...       ...       ...       ...       ...  \n",
       "361861 -0.829773 -0.088808  3.991904  1.475041  0.555627 -3.672516  0.002532  \n",
       "361862 -0.295963 -0.263805  3.435319  0.546108 -0.708506 -4.385779  1.318868  \n",
       "361863 -1.779561 -2.732545  1.280410  3.303506  1.202592 -1.725442  0.196475  \n",
       "361864 -0.266708 -1.346346  2.256954  2.092475  0.967575 -3.524627  0.404800  \n",
       "361865 -1.482167 -0.510542  1.603939  1.751150 -1.416753 -3.470245  0.228115  \n",
       "\n",
       "[361842 rows x 14 columns]"
      ]
     },
     "execution_count": 25,
     "metadata": {},
     "output_type": "execute_result"
    }
   ],
   "source": [
    "df_w_sentences"
   ]
  },
  {
   "cell_type": "code",
   "execution_count": 26,
   "id": "495b76a9-d57b-4679-a704-bb487d4033bb",
   "metadata": {
    "tags": []
   },
   "outputs": [],
   "source": [
    "df_w_sentences['goal_usd'] = df_w_sentences['goal'] * df_w_sentences['fx_rate']"
   ]
  },
  {
   "cell_type": "code",
   "execution_count": 27,
   "id": "bc41969a-82cd-40c0-ac7a-f80ba4bca17b",
   "metadata": {
    "tags": []
   },
   "outputs": [],
   "source": [
    "df_w_sentences['pledged_usd'] = df_w_sentences['pledged'] * df_w_sentences['fx_rate']"
   ]
  },
  {
   "cell_type": "code",
   "execution_count": 28,
   "id": "2a3ab575-8c42-409c-a772-ead7c5e94853",
   "metadata": {
    "tags": []
   },
   "outputs": [],
   "source": [
    "df_cluster = df_w_sentences[['category', 'state','backers_count', 'goal_usd', 'pledged_usd','t', 'u', 'v', 'w', 'x', 'y', 'z']]"
   ]
  },
  {
   "cell_type": "code",
   "execution_count": 29,
   "id": "c98fc133-7130-4fdd-8f03-14ce1e7bd48e",
   "metadata": {
    "tags": []
   },
   "outputs": [],
   "source": [
    "def map_state_to_number(state_string):\n",
    "    lookup = {\"failed\": -3.0,\n",
    "              \"canceled\": -2.0,\n",
    "              \"suspended\" : -1.0,\n",
    "              \"submitted\" : 0.0,\n",
    "              \"started\" : 1.0,\n",
    "              \"live\" : 2.0,\n",
    "              \"successful\" : 3.0};\n",
    "    try:\n",
    "        value = lookup[state_string];\n",
    "    except:\n",
    "        value = np.nan;\n",
    "        \n",
    "    return value;"
   ]
  },
  {
   "cell_type": "code",
   "execution_count": 34,
   "id": "7ea79c7d-425b-443d-98d2-9d7d857497c5",
   "metadata": {},
   "outputs": [],
   "source": [
    "category_lookup = {}\n",
    "for index, item in enumerate(list(set(df_w_sentences['category']))):\n",
    "    category_lookup.update({item: index})"
   ]
  },
  {
   "cell_type": "code",
   "execution_count": 41,
   "id": "108e98c2-61f7-46c8-b0ea-d6ee1d6ca3d4",
   "metadata": {
    "tags": []
   },
   "outputs": [
    {
     "data": {
      "text/plain": [
       "{0: 'Puzzles',\n",
       " 1: 'Hardware',\n",
       " 2: 'Electronic Music',\n",
       " 3: 'Metal',\n",
       " 4: 'People',\n",
       " 5: 'Jazz',\n",
       " 6: 'Digital Art',\n",
       " 7: 'Food Trucks',\n",
       " 8: 'Ceramics',\n",
       " 9: 'Comics',\n",
       " 10: 'Vegan',\n",
       " 11: 'Typography',\n",
       " 12: 'Audio',\n",
       " 13: 'Bacon',\n",
       " 14: 'Interactive Design',\n",
       " 15: 'Animation',\n",
       " 16: 'R&B',\n",
       " 17: 'Performance Art',\n",
       " 18: 'Film & Video',\n",
       " 19: 'Pop',\n",
       " 20: 'Hip-Hop',\n",
       " 21: 'Indie Rock',\n",
       " 22: 'Candles',\n",
       " 23: 'Art',\n",
       " 24: 'Theater',\n",
       " 25: 'Nature',\n",
       " 26: 'Footwear',\n",
       " 27: 'Weaving',\n",
       " 28: 'Quilts',\n",
       " 29: 'Social Practice',\n",
       " 30: 'Woodworking',\n",
       " 31: 'Classical Music',\n",
       " 32: 'Spaces',\n",
       " 33: 'Drama',\n",
       " 34: 'Printing',\n",
       " 35: 'Residencies',\n",
       " 36: 'Fiction',\n",
       " 37: 'Video Art',\n",
       " 38: 'Music',\n",
       " 39: 'Photobooks',\n",
       " 40: 'Video Games',\n",
       " 41: 'Food',\n",
       " 42: '3D Printing',\n",
       " 43: 'Ready-to-wear',\n",
       " 44: 'Country & Folk',\n",
       " 45: 'Sculpture',\n",
       " 46: 'Pet Fashion',\n",
       " 47: 'Photo',\n",
       " 48: 'Pottery',\n",
       " 49: 'Camera Equipment',\n",
       " 50: 'Small Batch',\n",
       " 51: 'Performances',\n",
       " 52: 'Journalism',\n",
       " 53: 'Accessories',\n",
       " 54: \"Children's Books\",\n",
       " 55: 'Thrillers',\n",
       " 56: 'Poetry',\n",
       " 57: 'Stationery',\n",
       " 58: 'Makerspaces',\n",
       " 59: 'Crochet',\n",
       " 60: 'Conceptual Art',\n",
       " 61: 'Publishing',\n",
       " 62: 'Television',\n",
       " 63: 'Print',\n",
       " 64: 'Restaurants',\n",
       " 65: 'Photography',\n",
       " 66: 'Community Gardens',\n",
       " 67: 'Live Games',\n",
       " 68: 'Immersive',\n",
       " 69: 'Cookbooks',\n",
       " 70: 'Textiles',\n",
       " 71: 'Comic Books',\n",
       " 72: 'Glass',\n",
       " 73: 'Places',\n",
       " 74: 'Crafts',\n",
       " 75: 'Young Adult',\n",
       " 76: 'Childrenswear',\n",
       " 77: 'Chiptune',\n",
       " 78: 'Graphic Novels',\n",
       " 79: 'Software',\n",
       " 80: 'Webcomics',\n",
       " 81: 'Translations',\n",
       " 82: 'Calendars',\n",
       " 83: 'DIY',\n",
       " 84: 'Web',\n",
       " 85: 'Technology',\n",
       " 86: 'Gadgets',\n",
       " 87: 'Apparel',\n",
       " 88: 'Musical',\n",
       " 89: 'World Music',\n",
       " 90: 'Mixed Media',\n",
       " 91: 'Taxidermy',\n",
       " 92: 'Action',\n",
       " 93: 'Workshops',\n",
       " 94: 'Literary Journals',\n",
       " 95: 'Anthologies',\n",
       " 96: 'Events',\n",
       " 97: 'Illustration',\n",
       " 98: 'Gaming Hardware',\n",
       " 99: 'Architecture',\n",
       " 100: 'Shorts',\n",
       " 101: 'Webseries',\n",
       " 102: 'Animals',\n",
       " 103: 'Jewelry',\n",
       " 104: 'Art Books',\n",
       " 105: 'Faith',\n",
       " 106: 'Dance',\n",
       " 107: \"Farmer's Markets\",\n",
       " 108: 'Nonfiction',\n",
       " 109: 'DIY Electronics',\n",
       " 110: 'Graphic Design',\n",
       " 111: 'Installations',\n",
       " 112: 'Literary Spaces',\n",
       " 113: 'Farms',\n",
       " 114: 'Periodicals',\n",
       " 115: 'Wearables',\n",
       " 116: 'Movie Theaters',\n",
       " 117: 'Punk',\n",
       " 118: 'Knitting',\n",
       " 119: 'Space Exploration',\n",
       " 120: 'Sound',\n",
       " 121: 'Games',\n",
       " 122: 'Experimental',\n",
       " 123: 'Video',\n",
       " 124: 'Civic Design',\n",
       " 125: 'Couture',\n",
       " 126: 'Toys',\n",
       " 127: 'Robots',\n",
       " 128: 'Painting',\n",
       " 129: 'Radio & Podcasts',\n",
       " 130: 'Apps',\n",
       " 131: 'Family',\n",
       " 132: 'Latin',\n",
       " 133: 'Mobile Games',\n",
       " 134: 'Comedy',\n",
       " 135: 'Public Art',\n",
       " 136: 'Narrative Film',\n",
       " 137: 'Academic',\n",
       " 138: 'Kids',\n",
       " 139: 'Plays',\n",
       " 140: 'Documentary',\n",
       " 141: 'Fantasy',\n",
       " 142: 'Flight',\n",
       " 143: 'Rock',\n",
       " 144: 'Fine Art',\n",
       " 145: 'Horror',\n",
       " 146: 'Zines',\n",
       " 147: 'Product Design',\n",
       " 148: 'Tabletop Games',\n",
       " 149: 'Playing Cards',\n",
       " 150: 'Drinks',\n",
       " 151: 'Fabrication Tools',\n",
       " 152: 'Romance',\n",
       " 153: 'Letterpress',\n",
       " 154: 'Science Fiction',\n",
       " 155: 'Festivals',\n",
       " 156: 'Blues',\n",
       " 157: 'Design',\n",
       " 158: 'Music Videos',\n",
       " 159: 'Fashion',\n",
       " 160: 'Embroidery'}"
      ]
     },
     "execution_count": 41,
     "metadata": {},
     "output_type": "execute_result"
    }
   ],
   "source": [
    "category_lookup"
   ]
  },
  {
   "cell_type": "code",
   "execution_count": 34,
   "id": "4c352efa-e17f-442b-88b4-c935f113baa0",
   "metadata": {},
   "outputs": [],
   "source": [
    "def map_category_to_number(state_string, category_lookup):\n",
    "    try:\n",
    "        value = category_lookup[state_string];\n",
    "    except:\n",
    "        value = -1.1;\n",
    "    \n",
    "    return value"
   ]
  },
  {
   "cell_type": "code",
   "execution_count": 35,
   "id": "cc891802-4b1c-4dad-9de0-d02028d48397",
   "metadata": {
    "tags": []
   },
   "outputs": [],
   "source": [
    "df_cluster_copy = df_cluster.copy()"
   ]
  },
  {
   "cell_type": "code",
   "execution_count": 36,
   "id": "21cedd0b-c86f-4cdb-af32-4c6acbc9cbbd",
   "metadata": {
    "tags": []
   },
   "outputs": [
    {
     "data": {
      "text/plain": [
       "Index(['category', 'state', 'backers_count', 'goal_usd', 'pledged_usd', 't',\n",
       "       'u', 'v', 'w', 'x', 'y', 'z'],\n",
       "      dtype='object')"
      ]
     },
     "execution_count": 36,
     "metadata": {},
     "output_type": "execute_result"
    }
   ],
   "source": [
    "df_cluster_copy.columns"
   ]
  },
  {
   "cell_type": "code",
   "execution_count": 37,
   "id": "c666a089-6b43-4be7-96d9-02b78ba86bba",
   "metadata": {},
   "outputs": [],
   "source": [
    "df_cluster_copy['state'] = df_cluster['state'].apply(lambda x : map_state_to_number(x))"
   ]
  },
  {
   "cell_type": "code",
   "execution_count": 38,
   "id": "b4f0d881-1944-46f3-aa37-27ddb76c8e90",
   "metadata": {},
   "outputs": [],
   "source": [
    "df_cluster_copy['category'] = df_cluster['category'].apply(lambda x : map_category_to_number(x, category_lookup))"
   ]
  },
  {
   "cell_type": "code",
   "execution_count": 39,
   "id": "baf79d3f-fcce-4edc-a547-30c477f813cd",
   "metadata": {
    "tags": []
   },
   "outputs": [
    {
     "data": {
      "text/plain": [
       "array([[<Axes: title={'center': 'state'}>]], dtype=object)"
      ]
     },
     "execution_count": 39,
     "metadata": {},
     "output_type": "execute_result"
    },
    {
     "data": {
      "image/png": "[encoded data removed]",
      "text/plain": [
       "<Figure size 640x480 with 1 Axes>"
      ]
     },
     "metadata": {},
     "output_type": "display_data"
    }
   ],
   "source": [
    "df_cluster_copy.hist(column = 'state', grid = True)"
   ]
  },
  {
   "cell_type": "code",
   "execution_count": null,
   "id": "298a42c1-9730-4d7b-ac48-03fd9d743a4f",
   "metadata": {
    "tags": []
   },
   "outputs": [],
   "source": [
    "df_cluster_copy.to_csv(\"./kickstarter_numerical_clustering_dataset.csv\", index = False)"
   ]
  },
  {
   "cell_type": "code",
   "execution_count": null,
   "id": "1cc55669-706c-4bde-bb79-cd4aeb40705f",
   "metadata": {
    "tags": []
   },
   "outputs": [],
   "source": [
    "df_cluster"
   ]
  },
  {
   "cell_type": "code",
   "execution_count": null,
   "id": "698e7af0-17a7-4422-801a-21267433b035",
   "metadata": {},
   "outputs": [],
   "source": []
  }
 ],
 "metadata": {
  "kernelspec": {
   "display_name": "Python 3 (ipykernel)",
   "language": "python",
   "name": "python3"
  },
  "language_info": {
   "codemirror_mode": {
    "name": "ipython",
    "version": 3
   },
   "file_extension": ".py",
   "mimetype": "text/x-python",
   "name": "python",
   "nbconvert_exporter": "python",
   "pygments_lexer": "ipython3",
   "version": "3.11.5"
  }
 },
 "nbformat": 4,
 "nbformat_minor": 5
}
